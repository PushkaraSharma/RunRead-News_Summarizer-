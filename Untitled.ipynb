{
 "cells": [
  {
   "cell_type": "code",
   "execution_count": 1,
   "metadata": {},
   "outputs": [
    {
     "name": "stdout",
     "output_type": "stream",
     "text": [
      "Collecting transformers\n",
      "  Downloading transformers-2.11.0-py3-none-any.whl (674 kB)\n",
      "\u001b[K     |████████████████████████████████| 674 kB 716 kB/s eta 0:00:01\n",
      "\u001b[?25hCollecting tokenizers==0.7.0\n",
      "  Downloading tokenizers-0.7.0-cp37-cp37m-manylinux1_x86_64.whl (5.6 MB)\n",
      "\u001b[K     |████████████████████████████████| 5.6 MB 369 kB/s eta 0:00:01\n",
      "\u001b[?25hRequirement already satisfied: requests in /home/pushkara/anaconda3/lib/python3.7/site-packages (from transformers) (2.22.0)\n",
      "Requirement already satisfied: tqdm>=4.27 in /home/pushkara/anaconda3/lib/python3.7/site-packages (from transformers) (4.42.1)\n",
      "Requirement already satisfied: packaging in /home/pushkara/anaconda3/lib/python3.7/site-packages (from transformers) (20.1)\n",
      "Requirement already satisfied: numpy in /home/pushkara/anaconda3/lib/python3.7/site-packages (from transformers) (1.18.1)\n",
      "Collecting sacremoses\n",
      "  Downloading sacremoses-0.0.43.tar.gz (883 kB)\n",
      "\u001b[K     |████████████████████████████████| 883 kB 571 kB/s eta 0:00:01\n",
      "\u001b[?25hCollecting regex!=2019.12.17\n",
      "  Downloading regex-2020.6.8-cp37-cp37m-manylinux2010_x86_64.whl (661 kB)\n",
      "\u001b[K     |████████████████████████████████| 661 kB 708 kB/s eta 0:00:01\n",
      "\u001b[?25hCollecting sentencepiece\n",
      "  Downloading sentencepiece-0.1.91-cp37-cp37m-manylinux1_x86_64.whl (1.1 MB)\n",
      "\u001b[K     |████████████████████████████████| 1.1 MB 406 kB/s eta 0:00:01\n",
      "\u001b[?25hRequirement already satisfied: filelock in /home/pushkara/anaconda3/lib/python3.7/site-packages (from transformers) (3.0.12)\n",
      "Requirement already satisfied: certifi>=2017.4.17 in /home/pushkara/anaconda3/lib/python3.7/site-packages (from requests->transformers) (2019.11.28)\n",
      "Requirement already satisfied: urllib3!=1.25.0,!=1.25.1,<1.26,>=1.21.1 in /home/pushkara/anaconda3/lib/python3.7/site-packages (from requests->transformers) (1.25.8)\n",
      "Requirement already satisfied: chardet<3.1.0,>=3.0.2 in /home/pushkara/anaconda3/lib/python3.7/site-packages (from requests->transformers) (3.0.4)\n",
      "Requirement already satisfied: idna<2.9,>=2.5 in /home/pushkara/anaconda3/lib/python3.7/site-packages (from requests->transformers) (2.8)\n",
      "Requirement already satisfied: six in /home/pushkara/anaconda3/lib/python3.7/site-packages (from packaging->transformers) (1.14.0)\n",
      "Requirement already satisfied: pyparsing>=2.0.2 in /home/pushkara/anaconda3/lib/python3.7/site-packages (from packaging->transformers) (2.4.6)\n",
      "Requirement already satisfied: click in /home/pushkara/anaconda3/lib/python3.7/site-packages (from sacremoses->transformers) (7.0)\n",
      "Requirement already satisfied: joblib in /home/pushkara/anaconda3/lib/python3.7/site-packages (from sacremoses->transformers) (0.14.1)\n",
      "Building wheels for collected packages: sacremoses\n",
      "  Building wheel for sacremoses (setup.py) ... \u001b[?25ldone\n",
      "\u001b[?25h  Created wheel for sacremoses: filename=sacremoses-0.0.43-py3-none-any.whl size=893259 sha256=3343815aa733a4ceb86be0f0fc307bfcd8d102a3d901f2f60d78c38d7f8a16d6\n",
      "  Stored in directory: /home/pushkara/.cache/pip/wheels/69/09/d1/bf058f7d6fa0ecba2ce7c66be3b8d012beb4bf61a6e0c101c0\n",
      "Successfully built sacremoses\n",
      "Installing collected packages: tokenizers, regex, sacremoses, sentencepiece, transformers\n",
      "Successfully installed regex-2020.6.8 sacremoses-0.0.43 sentencepiece-0.1.91 tokenizers-0.7.0 transformers-2.11.0\n"
     ]
    }
   ],
   "source": [
    "!pip install transformers"
   ]
  },
  {
   "cell_type": "code",
   "execution_count": 2,
   "metadata": {},
   "outputs": [
    {
     "name": "stdout",
     "output_type": "stream",
     "text": [
      "Collecting torch\n",
      "  Downloading torch-1.5.1-cp37-cp37m-manylinux1_x86_64.whl (753.2 MB)\n"
     ]
    },
    {
     "name": "stdout",
     "output_type": "stream",
     "text": [
      "\u001b[K     |███████████████████████████████▍| 739.3 MB 325 kB/s eta 0:00:43    |█                               | 25.0 MB 491 kB/s eta 0:24:41     |██▉                             | 66.7 MB 909 kB/s eta 0:12:35     |███▏                            | 73.4 MB 516 kB/s eta 0:21:58     |███▋                            | 84.4 MB 492 kB/s eta 0:22:38     |███▋                            | 84.5 MB 492 kB/s eta 0:22:37     |███▉                            | 90.5 MB 1.1 MB/s eta 0:09:57     |███▉                            | 90.6 MB 1.1 MB/s eta 0:09:57     |███▉                            | 91.5 MB 734 kB/s eta 0:15:01     |████▏                           | 98.2 MB 345 kB/s eta 0:31:37     |████▏                           | 99.0 MB 451 kB/s eta 0:24:08     |████▌                           | 106.4 MB 660 kB/s eta 0:16:20     |█████                           | 118.4 MB 351 kB/s eta 0:30:08     |█████                           | 119.3 MB 400 kB/s eta 0:26:24     |██████                          | 139.7 MB 752 kB/s eta 0:13:35     |██████                          | 141.1 MB 450 kB/s eta 0:22:38     |███████                         | 162.4 MB 976 kB/s eta 0:10:05     |███████▊                        | 181.6 MB 878 kB/s eta 0:10:51     |████████                        | 186.7 MB 409 kB/s eta 0:23:05     |████████                        | 188.0 MB 498 kB/s eta 0:18:55     |█████████▎                      | 219.6 MB 1.5 MB/s eta 0:05:51     |█████████▍                      | 221.0 MB 706 kB/s eta 0:12:33     |█████████▍                      | 222.1 MB 1.1 MB/s eta 0:07:50     |█████████▌                      | 222.6 MB 1.2 MB/s eta 0:07:13     |█████████▊                      | 230.1 MB 267 kB/s eta 0:32:35     |██████████                      | 234.4 MB 625 kB/s eta 0:13:50     |██████████                      | 237.8 MB 273 kB/s eta 0:31:26     |██████████▉                     | 254.8 MB 577 kB/s eta 0:14:23     |███████████                     | 258.5 MB 906 kB/s eta 0:09:06     |███████████▏                    | 263.2 MB 622 kB/s eta 0:13:08     |███████████▎                    | 265.9 MB 408 kB/s eta 0:19:52     |███████████▌                    | 270.6 MB 769 kB/s eta 0:10:28     |███████████▋                    | 273.9 MB 917 kB/s eta 0:08:43     |████████████▏                   | 285.8 MB 468 kB/s eta 0:16:39     |████████████▉                   | 303.3 MB 255 kB/s eta 0:29:20     |█████████████                   | 308.1 MB 382 kB/s eta 0:19:25     |██████████████▍                 | 338.0 MB 877 kB/s eta 0:07:54     |██████████████▍                 | 339.8 MB 360 kB/s eta 0:19:07     |███████████████▊                | 370.1 MB 1.1 MB/s eta 0:05:54     |███████████████▉                | 371.6 MB 436 kB/s eta 0:14:36     |███████████████▉                | 372.7 MB 494 kB/s eta 0:12:49     |███████████████▉                | 372.9 MB 268 kB/s eta 0:23:35     |████████████████▏               | 380.0 MB 821 kB/s eta 0:07:35     |████████████████▎               | 383.8 MB 740 kB/s eta 0:08:19     |████████████████▌               | 387.4 MB 301 kB/s eta 0:20:15     |████████████████▌               | 389.5 MB 554 kB/s eta 0:10:56     |████████████████▉               | 396.4 MB 575 kB/s eta 0:10:21     |████████████████▉               | 396.7 MB 410 kB/s eta 0:14:28     |█████████████████▏              | 404.0 MB 379 kB/s eta 0:15:20     |█████████████████▏              | 404.7 MB 502 kB/s eta 0:11:33     |██████████████████              | 425.5 MB 859 kB/s eta 0:06:22     |██████████████████              | 426.1 MB 859 kB/s eta 0:06:21     |███████████████████             | 448.1 MB 454 kB/s eta 0:11:12     |████████████████████            | 470.1 MB 440 kB/s eta 0:10:43     |████████████████████            | 470.3 MB 440 kB/s eta 0:10:42     |████████████████████▎           | 478.3 MB 533 kB/s eta 0:08:35     |████████████████████▉           | 491.6 MB 225 kB/s eta 0:19:19     |█████████████████████▏          | 497.8 MB 962 kB/s eta 0:04:26     |█████████████████████▏          | 498.7 MB 388 kB/s eta 0:10:55     |█████████████████████▏          | 499.3 MB 714 kB/s eta 0:05:56     |█████████████████████▉          | 513.8 MB 576 kB/s eta 0:06:55     |█████████████████████▉          | 514.9 MB 333 kB/s eta 0:11:55     |██████████████████████          | 517.9 MB 292 kB/s eta 0:13:25     |██████████████████████▏         | 522.6 MB 331 kB/s eta 0:11:37     |██████████████████████▍         | 525.7 MB 333 kB/s eta 0:11:23     |██████████████████████▌         | 530.8 MB 528 kB/s eta 0:07:01     |██████████████████████▉         | 537.1 MB 127 kB/s eta 0:28:20     |██████████████████████▉         | 538.3 MB 323 kB/s eta 0:11:05     |███████████████████████         | 539.6 MB 230 kB/s eta 0:15:26     |███████████████████████▏        | 546.3 MB 233 kB/s eta 0:14:48     |███████████████████████▌        | 552.2 MB 456 kB/s eta 0:07:21     |███████████████████████▋        | 556.7 MB 948 kB/s eta 0:03:28     |███████████████████████▋        | 557.0 MB 901 kB/s eta 0:03:38     |████████████████████████        | 564.2 MB 795 kB/s eta 0:03:58     |████████████████████████▏       | 570.0 MB 496 kB/s eta 0:06:09     |████████████████████████▍       | 573.5 MB 392 kB/s eta 0:07:38     |████████████████████████▉       | 584.3 MB 468 kB/s eta 0:06:01     |█████████████████████████       | 586.5 MB 424 kB/s eta 0:06:34     |█████████████████████████       | 587.1 MB 499 kB/s eta 0:05:33     |█████████████████████████       | 587.4 MB 447 kB/s eta 0:06:11     |█████████████████████████       | 589.2 MB 557 kB/s eta 0:04:55     |█████████████████████████▎      | 595.5 MB 380 kB/s eta 0:06:55     |█████████████████████████▎      | 595.6 MB 380 kB/s eta 0:06:54     |█████████████████████████▌      | 601.1 MB 266 kB/s eta 0:09:30     |█████████████████████████▌      | 601.1 MB 359 kB/s eta 0:07:03     |█████████████████████████▊      | 605.2 MB 665 kB/s eta 0:03:43     |██████████████████████████      | 612.3 MB 571 kB/s eta 0:04:07     |██████████████████████████      | 613.0 MB 713 kB/s eta 0:03:17     |██████████████████████████▏     | 615.5 MB 715 kB/s eta 0:03:13     |██████████████████████████▋     | 627.0 MB 982 kB/s eta 0:02:09     |██████████████████████████▊     | 628.1 MB 575 kB/s eta 0:03:38     |███████████████████████████▏    | 639.7 MB 599 kB/s eta 0:03:10     |███████████████████████████▎    | 641.3 MB 707 kB/s eta 0:02:39     |███████████████████████████▍    | 645.3 MB 723 kB/s eta 0:02:30     |███████████████████████████▌    | 648.2 MB 608 kB/s eta 0:02:53     |████████████████████████████▍   | 667.3 MB 395 kB/s eta 0:03:38     |████████████████████████████▌   | 670.8 MB 652 kB/s eta 0:02:07     |████████████████████████████▊   | 675.6 MB 412 kB/s eta 0:03:09     |████████████████████████████▊   | 675.8 MB 412 kB/s eta 0:03:08     |█████████████████████████████   | 683.6 MB 553 kB/s eta 0:02:06     |█████████████████████████████▎  | 690.2 MB 594 kB/s eta 0:01:46     |█████████████████████████████▍  | 690.6 MB 466 kB/s eta 0:02:15     |██████████████████████████████▎ | 712.5 MB 423 kB/s eta 0:01:37     |██████████████████████████████▌ | 718.5 MB 290 kB/s eta 0:01:59     |██████████████████████████████▊ | 723.3 MB 623 kB/s eta 0:00:48     |██████████████████████████████▉ | 724.7 MB 279 kB/s eta 0:01:42     |███████████████████████████████ | 728.7 MB 501 kB/s eta 0:00:49     |███████████████████████████████ | 731.0 MB 693 kB/s eta 0:00:33     |███████████████████████████████▏| 733.2 MB 662 kB/s eta 0:00:31     |███████████████████████████████▎| 735.0 MB 432 kB/s eta 0:00:42     |███████████████████████████████▎| 735.6 MB 538 kB/s eta 0:00:33     |███████████████████████████████▎| 736.1 MB 246 kB/s eta 0:01:10     |███████████████████████████████▎| 736.3 MB 246 kB/s eta 0:01:09     |███████████████████████████████▎| 736.8 MB 206 kB/s eta 0:01:20     |███████████████████████████████▍| 737.5 MB 468 kB/s eta 0:00:34     |███████████████████████████████▍| 738.2 MB 511 kB/s eta 0:00:30     |███████████████████████████████▍| 738.5 MB 546 kB/s eta 0:00:27     |███████████████████████████████▍| 739.2 MB 325 kB/s eta 0:00:43\r",
      "\u001b[K     |███████████████████████████████▍| 739.3 MB 325 kB/s eta 0:00:43\r",
      "\u001b[K     |███████████████████████████████▍| 739.3 MB 325 kB/s eta 0:00:43"
     ]
    },
    {
     "name": "stdout",
     "output_type": "stream",
     "text": [
      "\u001b[K     |████████████████████████████████| 753.2 MB 17 kB/s  eta 0:00:01     |███████████████████████████████▌| 740.5 MB 444 kB/s eta 0:00:29     |███████████████████████████████▌| 740.7 MB 365 kB/s eta 0:00:35     |███████████████████████████████▌| 741.7 MB 493 kB/s eta 0:00:24     |███████████████████████████████▊| 745.7 MB 482 kB/s eta 0:00:16     |████████████████████████████████| 752.5 MB 166 kB/s eta 0:00:04\n",
      "\u001b[?25hRequirement already satisfied: numpy in /home/pushkara/anaconda3/lib/python3.7/site-packages (from torch) (1.18.1)\n",
      "Requirement already satisfied: future in /home/pushkara/anaconda3/lib/python3.7/site-packages (from torch) (0.18.2)\n",
      "Installing collected packages: torch\n",
      "Successfully installed torch-1.5.1\n"
     ]
    }
   ],
   "source": [
    "!pip install torch"
   ]
  },
  {
   "cell_type": "code",
   "execution_count": null,
   "metadata": {},
   "outputs": [],
   "source": [
    "import torch\n",
    "import json\n",
    "from transformers import TS"
   ]
  }
 ],
 "metadata": {
  "kernelspec": {
   "display_name": "Python 3",
   "language": "python",
   "name": "python3"
  },
  "language_info": {
   "codemirror_mode": {
    "name": "ipython",
    "version": 3
   },
   "file_extension": ".py",
   "mimetype": "text/x-python",
   "name": "python",
   "nbconvert_exporter": "python",
   "pygments_lexer": "ipython3",
   "version": "3.7.6"
  }
 },
 "nbformat": 4,
 "nbformat_minor": 4
}
