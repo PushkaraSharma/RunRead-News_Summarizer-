{
 "cells": [
  {
   "cell_type": "code",
   "execution_count": 5,
   "metadata": {},
   "outputs": [],
   "source": [
    "import bs4\n",
    "from urllib.request import Request, urlopen    "
   ]
  },
  {
   "cell_type": "code",
   "execution_count": 23,
   "metadata": {},
   "outputs": [],
   "source": [
    "req = Request(\"https://www.hindustantimes.com/latest-news/\",headers={'User-Agent': 'XYZ/3.0'})\n",
    "response = urlopen(req, timeout=20).read()\n",
    "page1 = bs4.BeautifulSoup(response,'lxml')\n",
    "#print(page1)\n"
   ]
  },
  {
   "cell_type": "markdown",
   "metadata": {},
   "source": [
    "# no useful because of low res images"
   ]
  },
  {
   "cell_type": "code",
   "execution_count": 24,
   "metadata": {},
   "outputs": [],
   "source": [
    "b = page1.find('ul',class_='latest-news-bx more-latest-news more-separate')\n",
    "temp_hrefs = []\n",
    "for a in b.find_all('a',href =True):\n",
    "    g =(a['href'])\n",
    "    temp_hrefs.append(g)\n",
    "#print(temp_hrefs)"
   ]
  },
  {
   "cell_type": "code",
   "execution_count": 25,
   "metadata": {},
   "outputs": [
    {
     "data": {
      "text/plain": [
       "45"
      ]
     },
     "execution_count": 25,
     "metadata": {},
     "output_type": "execute_result"
    }
   ],
   "source": [
    "len(temp_hrefs)"
   ]
  },
  {
   "cell_type": "code",
   "execution_count": 26,
   "metadata": {},
   "outputs": [
    {
     "data": {
      "text/plain": [
       "['https://tech.hindustantimes.com/tech/news/whatsapp-s-expiring-messages-feature-inches-closer-to-launch-71596716806027.html',\n",
       " 'https://www.hindustantimes.com/world-news/us-jobless-claims-dip-in-latest-week-to-1-19-million-govt/story-SLbZPrWQV44Eyt0mctTtmN.html',\n",
       " 'https://www.hindustantimes.com/india-news/uttarakhand-man-shoots-his-wife-on-suspicion-of-infidelity/story-wG5v0ZnNi9sQxmXVdu0utI.html',\n",
       " 'https://www.hindustantimes.com/bengaluru/karnataka-records-5-619-new-covid-19-cases/story-E26ULBQdnWgfXlTwzOcIlJ.html',\n",
       " 'https://www.hindustantimes.com/india-news/day-after-bhoomi-pujan-curious-devotees-throng-ram-janmabhoomi-in-ayodhya/story-jvIq6HrAA0wDfFRjhSNA6I.html',\n",
       " 'https://www.hindustantimes.com/education/tripura-govt-starts-helpline-to-counsel-students-on-issues-related-to-academics-and-depression/story-nN0diSre4OfbA7u4HSOJjO.html',\n",
       " 'https://www.hindustantimes.com/ht-school/common-cold-infection-may-train-the-body-to-recognise-coronavirus/story-BmORbARcQIvU94epZ1IGVM.html',\n",
       " 'https://www.hindustantimes.com/it-s-viral/cat-bros-use-catio-for-everything-other-than-what-it-is-intended-for-watch/story-m9sLmYqLwlriSXd6JxT84J.html',\n",
       " 'https://www.hindustantimes.com/cities/mohali-s-covid-19-count-tops-1-100-with-sharpest-surge-of-68-cases/story-zbMrmHRBSKq7C99HR4U9FI.html',\n",
       " 'https://www.hindustantimes.com/football/edu-garcia-inks-two-year-deal-with-atk-mohun-bagan-fc/story-SHRvWmRIFVy02cyh32AftK.html',\n",
       " 'https://www.hindustantimes.com/tv/parth-samthaan-returns-to-kasautii-zindagii-kay-sets-see-pics/story-SVTw5HAAldi4EtwASIJ4TP.html',\n",
       " 'https://www.hindustantimes.com/lucknow/parts-of-uttar-pradesh-witness-thunderstorm-lightning/story-4o6woHaQB8EGj38vAP3WYK.html',\n",
       " 'https://www.hindustantimes.com/tv/khichdi-actor-richa-bhadra-quarantined-at-home-after-testing-positive-for-covid-19-i-am-worried-for-my-mom/story-at5gqZzP6zFtCEBgj0daVO.html',\n",
       " 'https://www.hindustantimes.com/india-news/indians-anywhere-can-access-covid-19-lab-in-3-hours-harsh-vardhan/story-PxQ937mA74NUpAPxlqXYpO.html',\n",
       " 'https://www.hindustantimes.com/cricket/amid-virus-fears-ca-contemplates-moving-boxing-day-test-against-india-to-adelaide/story-y9WupenyPs5R0XIVuHStnO.html']"
      ]
     },
     "execution_count": 26,
     "metadata": {},
     "output_type": "execute_result"
    }
   ],
   "source": [
    "temp_hrefs = sorted(set(temp_hrefs), key=temp_hrefs.index)\n",
    "temp_hrefs"
   ]
  },
  {
   "cell_type": "code",
   "execution_count": 72,
   "metadata": {},
   "outputs": [
    {
     "name": "stdout",
     "output_type": "stream",
     "text": [
      "WhatsApp’s expiring messages feature inches closer to launch\n",
      "WhatsApp for long has been working on a feature that will enable users to delete a sent message such that it leaves no trace on either side of the conversation. Now, a new report hints that the functionality is getting closer to launch.As per a report by WABetaInfo, WhatsApp has made improvements to the feature and added separate panels that describe how the functionality works. In a previous blog post, the publication had noted that the company was implementing the expiring messages feature in the form of ‘on’ and ‘off’ option button with a one-line description explaining what the feature does.Now, the Facebook-owned messaging platform has refined this further and added a separate panel that explains what this feature does in detail before taking users to the window where they can actually send disappearing messages.Details given in these panels suggest that anyone will be able to turn expiring messages on or off in a chat. However, in groups, this feature would be restricted to admins. While the media shared in an expiring message will disappear but an image or a video may be saved on a user’s phone before the message expired. In addition to that, the explanation panels also say that users will be able to save an expiring message by taking a screenshot of the conversation and that these messages, like rest of the messages, shared on WhatsApp will always be end-to-end encrypted.There is no word on when this functionality will arrive on WhatsApp. But given the changes that the company is actively making, it shouldn’t be long now. \n",
      "<figure>\n",
      "<img alt=\"While the media shared in an expiring message will disappear but an image or a video may be saved on a user’s phone before the message expired.\" class=\"entry__img\" src=\"https://images.hindustantimes.com/tech/img/2020/08/06/960x540/2020-07-22T140821Z_1_LYNXNPEG6L14S_RTROPTP_3_HEALTH-CORONAVIRUS-WHATSAPP_1596716858210_1596716872750.JPG\"/>\n",
      "<figcaption>While the media shared in an expiring message will disappear but an image or a video may be saved on a user’s phone before the message expired. (REUTERS)</figcaption>\n",
      "</figure>\n"
     ]
    }
   ],
   "source": [
    "headings = []\n",
    "news = []\n",
    "pics = []\n",
    "for i in range(1):\n",
    "    req = Request(temp_hrefs[i],headers={'User-Agent': 'XYZ/3.0'})\n",
    "    new_web = urlopen(req, timeout=20).read()  \n",
    "    new_page = bs4.BeautifulSoup(new_web,'lxml')\n",
    "    data = new_page.find('div',class_='article fl')\n",
    "    heading = \" \".join(data.h1.text.split())\n",
    "    print(heading)\n",
    "    summ = data.findAll('p')\n",
    "    text  = ''\n",
    "    for j in summ:\n",
    "        text+= j.text\n",
    "    print(text)\n",
    "    pic = data.find('figure')\n",
    "    print(pic)\n",
    "    headings.append(heading)\n",
    "    "
   ]
  },
  {
   "cell_type": "code",
   "execution_count": null,
   "metadata": {},
   "outputs": [],
   "source": []
  }
 ],
 "metadata": {
  "kernelspec": {
   "display_name": "Python 3",
   "language": "python",
   "name": "python3"
  },
  "language_info": {
   "codemirror_mode": {
    "name": "ipython",
    "version": 3
   },
   "file_extension": ".py",
   "mimetype": "text/x-python",
   "name": "python",
   "nbconvert_exporter": "python",
   "pygments_lexer": "ipython3",
   "version": "3.7.6"
  }
 },
 "nbformat": 4,
 "nbformat_minor": 4
}
