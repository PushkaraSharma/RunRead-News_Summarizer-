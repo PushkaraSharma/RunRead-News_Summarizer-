{
 "cells": [
  {
   "cell_type": "code",
   "execution_count": 172,
   "metadata": {},
   "outputs": [],
   "source": [
    "import urllib.request as url\n",
    "import bs4"
   ]
  },
  {
   "cell_type": "code",
   "execution_count": 173,
   "metadata": {},
   "outputs": [
    {
     "name": "stdout",
     "output_type": "stream",
     "text": [
      "Enter name of movie:aquaman\n"
     ]
    }
   ],
   "source": [
    "movie = input('Enter name of movie:')\n",
    "\n"
   ]
  },
  {
   "cell_type": "code",
   "execution_count": null,
   "metadata": {},
   "outputs": [],
   "source": []
  },
  {
   "cell_type": "code",
   "execution_count": 174,
   "metadata": {},
   "outputs": [],
   "source": [
    "web = url.urlopen(\"https://www.imdb.com/find?ref_=nv_sr_fn&q=\"+movie)"
   ]
  },
  {
   "cell_type": "code",
   "execution_count": 175,
   "metadata": {},
   "outputs": [],
   "source": [
    "page1 = bs4.BeautifulSoup(web,'lxml')"
   ]
  },
  {
   "cell_type": "code",
   "execution_count": 176,
   "metadata": {},
   "outputs": [],
   "source": [
    "b = page1.find('td',class_='result_text')"
   ]
  },
  {
   "cell_type": "code",
   "execution_count": 177,
   "metadata": {},
   "outputs": [],
   "source": [
    "href = b.a['href']"
   ]
  },
  {
   "cell_type": "code",
   "execution_count": 178,
   "metadata": {},
   "outputs": [],
   "source": [
    "web2 = url.urlopen(\"https://www.imdb.com\"+href)"
   ]
  },
  {
   "cell_type": "code",
   "execution_count": 179,
   "metadata": {},
   "outputs": [],
   "source": [
    "page2 = bs4.BeautifulSoup(web2,'lxml')"
   ]
  },
  {
   "cell_type": "code",
   "execution_count": 180,
   "metadata": {},
   "outputs": [],
   "source": [
    "c = page2.find('div',class_='user-comments')"
   ]
  },
  {
   "cell_type": "code",
   "execution_count": 181,
   "metadata": {},
   "outputs": [],
   "source": [
    "temp = []\n",
    "for a in c.find_all('a',href =True):\n",
    "    g =(a['href'])\n",
    "    temp.append(g)"
   ]
  },
  {
   "cell_type": "code",
   "execution_count": 182,
   "metadata": {},
   "outputs": [
    {
     "data": {
      "text/plain": [
       "'/title/tt1477834/reviews?ref_=tt_urv'"
      ]
     },
     "execution_count": 182,
     "metadata": {},
     "output_type": "execute_result"
    }
   ],
   "source": [
    "d =temp[-1]\n",
    "d"
   ]
  },
  {
   "cell_type": "code",
   "execution_count": 183,
   "metadata": {},
   "outputs": [],
   "source": [
    "web3 = url.urlopen(\"https://www.imdb.com\"+d)\n",
    "url = \"https://www.imdb.com\"+d"
   ]
  },
  {
   "cell_type": "code",
   "execution_count": 184,
   "metadata": {},
   "outputs": [],
   "source": [
    "page3 = bs4.BeautifulSoup(web3,'lxml')"
   ]
  },
  {
   "cell_type": "code",
   "execution_count": 185,
   "metadata": {},
   "outputs": [],
   "source": [
    "e = page3.find('div',class_='lister-list')"
   ]
  },
  {
   "cell_type": "code",
   "execution_count": 186,
   "metadata": {},
   "outputs": [],
   "source": [
    "e1 = e.find_all('a',class_='title')"
   ]
  },
  {
   "cell_type": "code",
   "execution_count": 187,
   "metadata": {},
   "outputs": [],
   "source": [
    "user_reviews = []\n",
    "for i in e1:\n",
    "    raw = (i.text)\n",
    "    user_reviews.append(raw.replace('\\n',''))"
   ]
  },
  {
   "cell_type": "code",
   "execution_count": null,
   "metadata": {},
   "outputs": [],
   "source": []
  },
  {
   "cell_type": "code",
   "execution_count": 188,
   "metadata": {},
   "outputs": [
    {
     "data": {
      "text/plain": [
       "[' Everything But The Kitchen Sink',\n",
       " ' Is it just me?',\n",
       " ' Never Trust Anyone Who Call Aquaman A Boring Movie',\n",
       " \" The most overrated generic superhero film you'll ever see\",\n",
       " ' Aquaman vs powwerrangers, starwars, godzilla and many others, on steroids',\n",
       " ' Every superhero movie cliche you can imagine',\n",
       " ' More cheese than I can handle',\n",
       " ' Better stuff than what MCU offered us for 9 years',\n",
       " ' I had high hopes but....yeah',\n",
       " ' Most Beautifully visualized!!! DC movie...so far',\n",
       " ' BEST DCEU FILM',\n",
       " ' Bruuuuuh',\n",
       " \" I'm so annoyed with the people who reviewed this movie before I saw it!\",\n",
       " ' Wow... just wow',\n",
       " ' Really?!',\n",
       " ' The enormous visuality of Atlantis!',\n",
       " \" Boring! Don't waste your money!\",\n",
       " ' Aquaman is the movie not only DCEU needed but also the kind of movie it deserves.',\n",
       " ' one of the best popcorn movies of 2018',\n",
       " ' Aquaman: retro dreams come true, to innocence and imagination!',\n",
       " ' Rock-Bottom',\n",
       " ' Lol...',\n",
       " ' Spectacle of dumb',\n",
       " ' Aquaman is fantastic...',\n",
       " ' Worst of the worst']"
      ]
     },
     "execution_count": 188,
     "metadata": {},
     "output_type": "execute_result"
    }
   ],
   "source": [
    "user_reviews"
   ]
  },
  {
   "cell_type": "code",
   "execution_count": null,
   "metadata": {},
   "outputs": [],
   "source": []
  },
  {
   "cell_type": "code",
   "execution_count": null,
   "metadata": {},
   "outputs": [],
   "source": []
  },
  {
   "cell_type": "code",
   "execution_count": null,
   "metadata": {},
   "outputs": [],
   "source": []
  }
 ],
 "metadata": {
  "kernelspec": {
   "display_name": "Python 3",
   "language": "python",
   "name": "python3"
  },
  "language_info": {
   "codemirror_mode": {
    "name": "ipython",
    "version": 3
   },
   "file_extension": ".py",
   "mimetype": "text/x-python",
   "name": "python",
   "nbconvert_exporter": "python",
   "pygments_lexer": "ipython3",
   "version": "3.7.6"
  }
 },
 "nbformat": 4,
 "nbformat_minor": 2
}
