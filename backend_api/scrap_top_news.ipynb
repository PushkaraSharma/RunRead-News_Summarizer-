{
 "cells": [
  {
   "cell_type": "code",
   "execution_count": 1,
   "metadata": {},
   "outputs": [],
   "source": [
    "import urllib.request as url\n",
    "import bs4"
   ]
  },
  {
   "cell_type": "markdown",
   "metadata": {},
   "source": [
    "# Extracting tech,latest,corona,business,world,trending"
   ]
  },
  {
   "cell_type": "code",
   "execution_count": 22,
   "metadata": {},
   "outputs": [],
   "source": [
    "web_url = \"https://www.indiatoday.in/world\"\n",
    "web = url.urlopen(web_url)\n",
    "page1 = bs4.BeautifulSoup(web,'lxml')\n",
    "#print(page1)"
   ]
  },
  {
   "cell_type": "code",
   "execution_count": 23,
   "metadata": {},
   "outputs": [],
   "source": [
    "b = page1.find('div',class_='view-content')\n",
    "temp_hrefs = []\n",
    "for a in b.find_all('a',href =True):\n",
    "    g =(a['href'])\n",
    "    temp_hrefs.append(g)"
   ]
  },
  {
   "cell_type": "code",
   "execution_count": 24,
   "metadata": {},
   "outputs": [
    {
     "data": {
      "text/plain": [
       "12"
      ]
     },
     "execution_count": 24,
     "metadata": {},
     "output_type": "execute_result"
    }
   ],
   "source": [
    "len(temp_hrefs)"
   ]
  },
  {
   "cell_type": "code",
   "execution_count": 25,
   "metadata": {
    "scrolled": false
   },
   "outputs": [],
   "source": [
    "headings = []\n",
    "news = []\n",
    "pics = []\n",
    "for i in range(5):\n",
    "    new_web =  url.urlopen(\"https://www.indiatoday.in\"+temp_hrefs[i])\n",
    "    new_page = bs4.BeautifulSoup(new_web,'lxml')\n",
    "    head = new_page.find('h1',itemprop = 'headline')\n",
    "    headings.append(head.text)\n",
    "    newss = new_page.find('div',itemprop='articleBody')\n",
    "    newss = newss.text\n",
    "    for i in range(len(newss)):\n",
    "        if(newss[i]=='R' and newss[i+1]=='E' and newss[i+2]=='A' and newss[i+3]=='D'):\n",
    "            newss = newss[:i]\n",
    "            break\n",
    "    news.append(newss)\n",
    "    pic_link = new_page.find('img', itemprop='contentUrl')\n",
    "    pics.append(pic_link['data-src'])"
   ]
  },
  {
   "cell_type": "code",
   "execution_count": 29,
   "metadata": {
    "scrolled": true
   },
   "outputs": [
    {
     "data": {
      "text/plain": [
       "[\"Tourism-reliant Thailand defers 'travel bubble' plan as Asia's Covid graph rises\",\n",
       " 'US: Threat of eviction looms over millions of low-income renters as Congress spars over aid',\n",
       " 'Hunted to extinction, beavers get shelter in Britain first time in 400 years',\n",
       " 'No hoopla: Virus upends Trump and Biden convention plans',\n",
       " \"North Korea's escalating virus response raises fear of outbreak\"]"
      ]
     },
     "execution_count": 29,
     "metadata": {},
     "output_type": "execute_result"
    }
   ],
   "source": [
    "headings"
   ]
  },
  {
   "cell_type": "code",
   "execution_count": 6,
   "metadata": {},
   "outputs": [
    {
     "data": {
      "text/plain": [
       "[]"
      ]
     },
     "execution_count": 6,
     "metadata": {},
     "output_type": "execute_result"
    }
   ],
   "source": [
    "news"
   ]
  },
  {
   "cell_type": "markdown",
   "metadata": {},
   "source": [
    "# Sports, Auto,Education,Lifestyle"
   ]
  },
  {
   "cell_type": "code",
   "execution_count": 40,
   "metadata": {},
   "outputs": [],
   "source": [
    "web = url.urlopen(\"https://www.indiatoday.in/lifestyle\")\n",
    "page1 = bs4.BeautifulSoup(web,'lxml')\n",
    "#print(page1)"
   ]
  },
  {
   "cell_type": "code",
   "execution_count": 41,
   "metadata": {},
   "outputs": [],
   "source": [
    "b = page1.find('ul',class_='itg-listing')\n",
    "#print(b)\n",
    "temp_hrefs = []\n",
    "headings = []\n",
    "for a in b.find_all('a',href =True):\n",
    "    head = a.text\n",
    "    headings.append(head)\n",
    "    g =(a['href'])\n",
    "    temp_hrefs.append(g)"
   ]
  },
  {
   "cell_type": "code",
   "execution_count": 45,
   "metadata": {
    "scrolled": true
   },
   "outputs": [
    {
     "name": "stdout",
     "output_type": "stream",
     "text": [
      "Error\n",
      "Rana Daggubati and Miheeka Bajaj are all set to tie the knot on August 8 in an intimate wedding ceremony which will be attended by only 30 people. Their pre-wedding revelries have already kick-started. Today, Miheeka has taken the internet by a storm with stunning pictures from her haldi ceremony. She even managed to set a new trend with her resplendent haldi ceremony look.For the zesty ceremony, she opted for a traditional yellow lehenga set. Her outfit featured a hint of powder blue colour as well. To avoid the dupatta hassles, the fashion-forward bride set it with a matching belt, thereby rocking the trend of belted lehengas. Miheeka Bajaj looked resplendent in a yellow lehenga at her haldi ceremony.However, the cynosure of her haldi look turned out to be her jewellery. She ditched the quintessential floral jewels and instead made a contemporary choice. She opted for seashells jewellery. Right from her matha patti, earrings to bangles and rings - all the ornaments were adorned with seashells. Miheeka opted for seashells jewellery for her haldi ceremony.As for the make-up, Miheeka opted for shimmery eyelids and bold lips. She kept her tresses open in a half-tie style.Seashell adornments have been in the bridal fashion scene for quite a while, but it never gained much momentum or became a trend. But after Miheeka's haldi ceremony, we are sure it will be among the raging trends.Miheeka Bajaj is the founder of an event management company Dew Drop Design Studio. Rana and Miheeka knew each other for several years, but they decided to get married weeks before the lockdown was announced.Rana Daggubati, in his exclusive interview with India Today, revealed that he will get married to Miheeka Bajaj on August 8. The wedding will be bio-secure and will have a special theme.What do you think about her seashell jewels?ALSO READ: Miheeka Bajaj is a ravishing bride-to-be at haldi ceremony ahead of wedding with Rana Daggubati. See picsALSO SEE: Rana Daggubati's fiancee Miheeka is all decked up in new picture: Celebrations continueALSO SEE: Rana Daggubati and Miheeka Bajaj's wedding not postponed, to take place on August 8\n",
      "Grammy Award-winning music producer Detail was arrested on Wednesday on more than a dozen charges of sexual assault, authorities said.The 41-year-old producer was held on nearly USD 6.3 million (Rs 47,18,38,500) bail, according to a statement from the Los Angeles County Sheriff’s Department.Detail, whose real name is Noel Christopher Fisher, was charged on July 31 with 15 counts of sexual assault and five counts of felony assault, the statement said. He is accused of crimes between 2010 and 2018.Detectives submitted the case to the Los Angeles County district attorney’s office in January, the statement said. It didn’t provide other details.“Mr Fisher was just arrested some hours ago and I have not had an opportunity to speak to him or look at the charges. I am quite certain he will enter a not guilty plea and contest to the fullest all of these allegations,” his attorney, Irwin Mark Bledstein, said in an email late Wednesday night.Detail won a Grammy in 2015 for co-writing the Beyonce and Jay-Z hit Drunk in Love and has also produced hits for Lil Wayne, Nicki Minaj and Wiz Khalifa.Last year, a model and aspiring singer was awarded USD 15 million (USD 1,12,34,62,500) in a Los Angeles lawsuit that accused the producer of abusing and raping her.She is one of six women, some established professionals and others music-industry newcomers, who have spoken out publicly against what they said was Fisher’s sexual aggression.At least two, both former assistants, have filed their own lawsuits. Fisher has said in court documents filed in those lawsuits that all the allegations against him are false, and have led to his losing all work and being evicted.ALSO READ | MP: 'Pervert' security guard held for molesting women\n",
      "Noted Delhi-based writer and activist Sadia Dehlvi has passed away after a prolonged battle with cancer. She was 63.Sadia Dehlvi was admitted to a city hospital recently where she was undergoing treatment. She died at her home on Wednesday.\"Sad to hear about the tragic demise of Sadia Dehlvi, a well known cultural figure of Delhi, a dear friend and a wonderful human being. Rest in Peace,\" tweeted eminent historian S Irfan Habib.Sadia, who hailed from the royal 'Shama' family, edited Bano, an Urdu women's journal. Her grandfather, Hafiz Yusuf Dehlvi, founded in 1938 Shama, an iconic Urdu film and literary monthly.A well-known food connoisseur, she wrote a book on Delhi's culinary history in 2017, titled Jasmine & Jinns: Memories and Recipes of My Delhi.A woman of many talents, Sadia also produced and scripted documentaries and television programmes, including Amma and Family (1995), starring Zohra Sehgal, a veteran stage actor.She was a close friend and confidante of the late author Khushwant Singh. Singh dedicated his book Not a Nice Man to Know to her. He wrote, \"To Sadia Dehlvi, who gave me more affection and notoriety than I deserve.\"Singh's book \"Men and Women in my Life\" has Sadia's photo on its cover and the book has a chapter dedicated to her.Sadia produced the television show Not a Nice Man to Know with Singh interviewing women from various fields.She is survived by her son Arman Ali Dehlvi.ALSO READ: Ebrahim Alkazi, father of modern Indian theatre, dies at 94ALSO READ: Rishi Kapoor and Irrfan together: D-Day scene goes viral after death of the actors\n",
      "Neena Gupta is one of the coolest celebrities that we have in Bollywood. The Badhaai Ho actress is a fashionista and her social media game is so on-point that she can easily leave behind the millennials. The actress keeps on sharing real fun videos and images on Instagram.This time, she shared a picture of herself while she was looking in her phone. The 65-year-old captioned the image, “Self.”View this post on InstagramSelfA post shared by  Neena Gupta (@neena_gupta) on Aug 5, 2020 at 1:46am PDT\n",
      "The stunning actress opted for an all-black outfit for the image. She wore a black bodycon button-down sweater which she teamed with a black scarf and a black cap.The hilarious part of the post is her daughter and designer Masaba Gupta’s comment. She took to the comments section and wrote, \"Lost it ya (sic),” with a laughing emoticon. Masaba's comment on Neena Gupta's post. Photo: Instagram/ Neena GuptaNeena recently shared another adorable video in which she was wearing a stunning saree designed by her daughter Masaba. In the video, the actress mentions that after four and a half months she wore a saree which was sent to her by courier from Mumbai. She captioned, “Saree ki baat hi Kuch our hai (there is something special about a saree),View this post on InstagramSaree ki baat hi kuch aur haiA post shared by  Neena Gupta (@neena_gupta) on Aug 2, 2020 at 7:41pm PDT\n",
      "She is truly an inspiration.Neena Gupta is currently self-isolating with her husband in Mukteshwar.ALSO READ | Neena Gupta dresses up after four months in new saree by daughter Masaba. Watch video\n",
      "A British judge ruled Wednesday that the Duchess of Sussex can keep the names of five close friends secret while she brings a privacy invasion lawsuit against a British newspaper - but he chided both sides in the case for playing out their battle in the media as well as the courtroom.High Court judge Mark Warby said \"I have concluded that, for the time being at least, the court should grant the claimant the order that she seeks,\" protecting the anonymity of friends who defended Meghan in the pages of a US magazine.Meghan Markle is suing the publisher of the Mail on Sunday and the MailOnline website over five articles that published portions of a handwritten letter she wrote to her estranged father, Thomas Markle, after her marriage to Prince Harry in 2018.Meghan, 39, is seeking damages from publisher Associated Newspapers Ltd for alleged misuse of private information, copyright infringement and data protection breaches.The Duchess asked the judge to prohibit publishing details of female friends who spoke anonymously to People magazine to condemn the alleged bullying she had received from the media. She argued that the friends were not parties to the case and had a \"basic right to privacy.\"The women's names are included in a confidential court document, but they have been identified in public only as A to E.Associated Newspapers' attorney Antony White said during a court hearing last week that the friends were potential witnesses in the case, and keeping their names secret \"would be a heavy curtailment of the media's and the defendant's entitlement to report this case and the public's right to know about it.\"The judge acknowledged he had to balance \"the competing demands of confidentiality and open justice.\"Warby ruled in favor of anonymity, saying it would serve justice by shielding Meghan's friends from the \"glare of publicity\" in the pretrial stage of the case.\"Generally, it does not help the interests of justice if those involved in litigation are subjected to, or surrounded by, a frenzy of publicity,\" he said. \"At trial, that is a price that may have to be paid in the interests of transparency. But it is not a necessary concomitant of the pretrial phase.\"No date has been set for the full trial, which is likely to be one of the highest-profile civil cases in the UK for years.The judge said that in pretrial wrangling, each side had \"overstated its case\" and made \"hyperbolic assertions\" about the other.\"Neither side has, so far, been willing to confine the presentation of its case to the courtroom,\" Warby said.\"Both sides have demonstrated an eagerness to play out the merits of their dispute in public, outside the courtroom, primarily in media reports,\" he said. \"That approach to litigation has little to do with enabling public scrutiny of the legal process, or enhancing the due administration of justice.\"Associated Newspapers, which is contesting the Duchess's privacy-infringement claim, says it was Meghan's friends who brought the letter into the public domain by describing it in the People article. One told the magazine that the Duchess had written, \"Dad, I'm so heartbroken. I love you. I have one father. Please stop victimizing me through the media so we can repair our relationship.\"The publisher's lawyers argue that the information about the letter disclosed in the article must have come \"directly or indirectly\" from Meghan.But Meghan's attorney, Justin Rusbrooke, argued that the Duchess was unaware her friends were speaking to the magazine. They say the anonymous interviews were arranged by one of the five friends, who was concerned about the toll media criticism was taking on the Duchess, who was pregnant at the time with her first child.American actress Meghan Markle, star of TV legal drama Suits, married Harry, grandson of Queen Elizabeth II, in a lavish ceremony at Windsor Castle in May 2018. Their son, Archie, was born the following year.In January, the couple announced they were quitting Royal duties and moving to North America, citing what they said was unbearable intrusion and racist attitudes from the British media. They are currently based in the Los Angeles area.ALSO READ: Meghan Markle turns 39: Queen, Kate Middleton and William wish Duchess happy birthday. See posts\n",
      "Milind Soman and Ankita Konwar’s relationship is goals. One look at their social media accounts and you will know what we are talking about.The two never shy away from expressing their love for each other. Today, Ankita posted a selfie with the supermodel on her Instagram stories, and it is absolutely adorable.In the click, the couple can be seen lovingly lying on their bed together. While Milind slept beside Ankita with his eyes closed, she showed off her brilliant smile for the selfie. She captioned the click, \"How can anyone have such a perfect nose? (sic).\"See the picture: Ankita also shared her secret of staying positive and self-love with her fans. She posted a long note along with a post-run picture on the gram.She captioned her post, \"What does ‘be good to yourself’ mean to you? To me, it means loving every molecule of my existence and enhancing the good in me. It means loving myself unconditionally and being at peace with everything I already have or I may experience. Because of our survival instincts, we do tend to see the negative in everything first and be cautious about everything around us so it takes quite some good amount of practice to only focus on the positive (sic).\"View this post on InstagramWhat does ‘be good to yourself’ mean to you? To me, it means loving every molecule of my existence and enhancing the good in me. It means loving myself unconditionally and being at peace with everything I already have or I may experience. Because of our survival instincts, we do tend to see the negative in everything first and be cautious about everything around us so it takes quite some good amount of practice to only focus on the positive. If something or someone makes you uncomfortable, take a pause, observe your emotions towards it and let it go with a positive thought. Life is far too precious to waste it on negativity. Always remember, positivity attracts positivity. So treat yourself exactly like a person you love, take care of yourself, be your comfort, allow yourself the space and time to grow, learn and keep away from toxicity. Learn how to peacefully walk out of negativity without holding anything against it. Because every step you take away from negativity, that’s one more step towards positivity And if everyone learns how to be kinder to themselves, we will have a better, kinder world. Here’s to positivity #keepbreathing . . #wednesdaywisdom #love #loveyourself #positivevibes #positivity #bekind #bekindtoyourself #notonegativity @milindrunningA post shared by  Ankita Konwar (@ankita_earthy) on Aug 5, 2020 at 12:20am PDT\n",
      "She continued, \"If something or someone makes you uncomfortable, take a pause, observe your emotions towards it and let it go with a positive thought. Life is far too precious to waste it on negativity. Always remember, positivity attracts positivity.\"Well, we are inspired by her caption.Ankita Konwar and Milind Soman tied the knot in Alibaug two years ago.\n"
     ]
    },
    {
     "name": "stdout",
     "output_type": "stream",
     "text": [
      "The Union Public Service Commission announced the results for the Civil Services Exam 2019 on August 4. After the results were announced, the internet was flooded with success stories of many aspirants. However, one particular person has caught the netizen’s eye and that too for a brilliant reason.Aishwarya Sheoran, who was named after Aishwarya Rai by her mother, secured an All India rank of 93 in the Civil Services Examination, which is truly impressive. But what makes it even more special is the fact that Aishwarya is also an acclaimed model and was also a Miss India 2016 finalist. Yes, you read that right.The official Twitter account of Miss India shared the news on their page.See the post:Aishwarya Sheoran, Femina Miss India 2016 finalist, Campus Princess Delhi 2016, Freshface winner Delhi 2015 made us immensely proud as she scored the All India Rank 93 in the Civil Services Examination. A huge congratulations to her on this achievement!#AishwaryaSheoran #CSE pic.twitter.com/SrDu4iK6T0— Miss India (@feminamissindia) August 4, 2020\n",
      "They wrote, \"Aishwarya Sheoran, Femina Miss India 2016 finalist, Campus Princess Delhi 2016, Freshface winner Delhi 2015 made us immensely proud as she scored the All India Rank 93 in the Civil Services Examination. A huge congratulations to her on this achievement! (sic).\"In fact, according to Aishwarya, appearing for the civil services was always her dream.“Civil Services had always been my dream,” says Aishwarya Sheoran, Miss India 2016 finalist.#MissIndia #congratulations #Finalist #civilservices pic.twitter.com/EHPZINnPB7— Miss India (@feminamissindia) August 5, 2020\n",
      "This is truly commendable.After the news went viral, many netiznes including civil service officers also took to the micro-blogging website to congratulate Aishwarya on her achievement. People are calling her a true example of beauty with brains and are praising her for chasing her passions in life.Take a look at some of the reactions:Fashion to Civil Services!! What a splendid journey, in full style Bravo #AishwaryaSheoran, rank 93. You will inspire millions to pursue multiple and diverse interests. Welcome aboard #UPSC #UPSCResults @IASassociation pic.twitter.com/20MzUJnFYW— Durga Shakti Nagpal IAS (@DurgaShaktiIAS) August 4, 2020\n",
      "Thank you #AishwaryaSheoran for proving the sexist stereotypes like- \"beauties are brainless\" wrong.Next time when one will see a woman pursuing her interest in fashion, she won't be branded as dumb! https://t.co/ffyJs48OJk— Neha Srivastava IFS (@Neha_IFS) August 5, 2020\n",
      "Fashion to Civil Services!!! Rank 93. You will rouse millions to seek after different and assorted interests.#AishwaryaSheoran pic.twitter.com/IJKBupVC12— Abhinov Pratap singh (@abhinov_pratap) August 4, 2020\n",
      "A benchmark has been set on phrase #beautywithbrains as #Aishwaryasheoran who was Miss India finalist had secured AIR 93 in UPSC civil services exam.It happens only in #India pic.twitter.com/QkrmKwuJ1G— Sunny Panwar (@sunnsky) August 4, 2020\n",
      "Miss India finalist 2016.Meet Aishwarya Sheoran. She secured AIR 93 in #UPSC2019 . Beauty with brains. Her father is serving country as a colonel.Congratulations you are inspiring many. #AishwaryaSheoran pic.twitter.com/nha89nJCjT— Constant Nomad RAS (@khurafatijaat) August 5, 2020\n",
      "Aishwarya's father Colonel Ajay Kumar is the Commanding Officer of NCC Telangana Battalion, Karimnagar. It was her father who inspired her to serve the nation.ALSO READ: Mumbai doctor reveals why she danced to Garmi in viral video: It's apt for when we're in PPE kitswindow._ttCc = window._ttCc || [];_ttCc.push(function(){callJavaScriptFile(\"//platform.twitter.com/widgets.js\");});\n",
      "Those who are associated with the fashion industry know that the calendar at this time of the year is marked with an array of couture shows and exhibitions to attend. But this is 2020. Things are different this year - in every possible way. This year, nothing is going by the normal trajectory. All thanks to the novel coronavirus outbreak that we are battling for over five months now. We are all trying to adapt to the 'new normal'. So is the fashion industry.Ace couturier Tarun Tahiliani launched his latest collection on a live Instagram show last month. And must we say what a spectacle it was. Beautifully shot, backed with peppy music, and with keen attention to outfit details - the digital show was sure an impactful experience. But is this what the future of fashion shows holds? The backstage madness, the celebration of couture, the getting together of the fashion fraternity under one roof, jitters felt by the designers and their team until the last moment and the buzz created by the audience until the lights go off and the show begins - will all this become a thing of the past?Well, we put forth this question to some top-notch fashion designers. We asked them their views on the Future of Fashion Shows and here's what they had to say:RAHUL MISHRA Rahul MishraRahul Mishra became the first Indian to showcase his collection 'Butterfly People' at the digital Paris Haute Couture Week in July this year. He presented 13 looks in a film. Mishra, who labels himself as \"a purist about physical shows\", admits that he had quite an experience to showcase digitally.\"It was a quite unique experience to showcase digitally. Almost, the same amount of work and stress went behind it and well, there was a level of nervousness that came up, right before the live stream,\" he said.In fact, he also noticed some major plus-points of digital fashion shows. But, temporarily. \"So to compare, I feel that only ten seconds of a garment fleeting past you at the catwalk can effectively be replaced with these multidimensional fashion films that can zoom in to all the details the designer wants to showcase- but, temporarily. The online showcases have allowed us to compensate for the backstage conversations with journalists and reimagine the way we tell our story,\" he said.View this post on InstagramLOOK 1 BUTTERFLY PEOPLE Aleksandra is wearing the Underwater Hand Embroidered Panelled Gown. Light as air, the gown is made in mint hued handwoven silk organza, embellished with mix-media hand embroidery. Explore ‘Butterfly People’ and more, now at www.rahulmishra.in Photography: @hormisantonytharakan HMU: @gurumakeupart Model: @alexandradologa Location: @studioaqube Press Paris: @icinsightcommunications India: @longformgram #StayTuned #ComingSoon #RahulMishraCouture #RahulMishra #RahulMishraCoutureFall2020 #Migratingtoanewworld #SunshineandaLittleFlowerA post shared by  Rahul Mishra (@rahulmishra_7) on Jul 10, 2020 at 8:15am PDT\n",
      "However, Mishra is hopeful that the fashion shows may return in some capacity. \"While this kind of storytelling is effective and shall continue to be relevant even when the brands aren't dependent on it, the fantasy of a fashion show may return in some capacity. It is human nature to want to walk into a room and become it, to be moved by the life a model puts into a designer's clothes and the way a live set tells a story to a person present within it,\" he said.MANISH MALHOTRA Manish MalhotraBollywood's favourite fashion designer and known to host larger-than-life fashion shows, Manish Malhotra views fashion shows as not just a showcase of new collections but they also provide job opportunities to people. \"Whenever you put up a grand show together, it gives a lot of job opportunities for people,\" he said.Speaking about the future of fashion shows, he believes safety is above everything at the moment. \"So I definitely see it (fashion shows) more toned down and I would definitely want people to take the best safety measures and lesser people watching the show and lesser production. And if you have a bigger production, get more camera shooting it so that it reaches out to more people,\" he said.He hopes fashion shows do not completely go off. \"Because it is a lot of job opportunities for a lot of people - for choreographers, models, make-up artists, set designers, backstage managers, hairstylists, caterers and more,\" he added.Moreover, Manish Malhotra also said that fashion shows are an aspiration for fashion students and new designs. \"And somewhere I also feel that it is also a celebration of collection and fashion fraternity - which is a good feeling and it should not die down. We are also in the time where we need to take care of our mental health and look at good things which make us feel good,\" he added.TARUN TAHILIANI Tarun TahilianiBest known for his regal creations that are brushed with modish details, Tarun Tahiliani showcased his latest collection with a digital show lately but he feels \"nothing can replace the joy of watching a show live.\" However, he also adds, \"life must go on\". He believes digital shows are the only way forward and reinvention is the future of fashion shows all over the world.\"There is nothing quite like going to a fashion show in person - it's immersive, the buzz created by the audience, the scale of multiple models, the styling, the lighting and the theatrics - everything contributes to a spectacle that cannot be duplicated digitally. (Unless you are in an imax theatre, of course!) While nothing can replace the joy of watching a show live, one cannot step away from the fact that life must go on, business must go on and ideas must generate and re-generate,\" Tahiliani said.He is also of the opinion that digital fashion shows are impactful and let every little detail garner attention. \"Having showcased virtually, I have to admit that communicating through the evolved medium of imagery and digital shows was liberating because one could see every detail, the lightness, the flow of each garment and the bounce and the swirl - all while being boundless. With a simple set, the music of choice, controlled lighting and more than adequate attention to details - it was a ball playing with all the new ways of showcasing and reinventing,\" he said.View this post on InstagramThe gift of mesmerising Indian embroidery styles is something we incessantly value and one such style is that of ‘Kashida’. It’s magical in its promise and tells a unique story every time. Intricate needlework and quality is webbed into the finest maze of creativity and innovation, using a multitude of colours which intertwine the mood and spirits of our artisans with the essence of nature-inspired motifs, patterns and prints. Jewellery: @shriparamanijewels, Tarun Tahiliani Silver Jewellery #TTAccessories For any queries please call or Whatsapp on: New Delhi/All India: +91 97170 22332, +91 98991 00701, + 91 98105 99908 Mumbai/All India: +91 98335 40320, +91 98192 12226 Should you need an online consultation, please reach out to us at care@taruntahiliani.com You can also shop the new collection at the #linkinbio.A post shared by  Tarun Tahiliani (@taruntahiliani) on Jul 20, 2020 at 3:49am PDT\n",
      "Digital is fashion's best bet, he feels. \"And frankly, that's the only way forward because this is our current reality and fashion's best bet at reaching an audience, being heard, broadening the sphere for business, etc. Therefore, reinvention is the future of fashion shows not just in India, but globally.\"FALGUNI SHANE PEACOCK Falguni and ShaneDesigner duo Falguni-Shane is hopeful that the fashion industry will bounce back fast and fashion shows will always be there. \"Like all industries, fashion is going to be one of the industries to bounce back fast. Since the fashion industry is all about creativity and is the most creative industry, it is going to find different, innovative and creative ways to showcase or to sell products or show products. And definitely, these are going to change once everything bounces back to normal. Yes, fashion is going to accept these new changes but fashion shows will always be there,\" they said.Well, that was all about the future of fashion shows. Designers are willing to keep the show on with the digital medium but are hopeful for things to return to normalcy.But the impact of the pandemic is way more intense. The dynamics of the fashion world has changed in multiple ways. The consumption of fashion is already a big debate across the world. It has gone down on the radar of necessities. Sustainable fashion is the need of the hour and the sustenance of fast fashion is already a question. High-end brands in Milan and Paris that were earlier dependent on cheap Chinese labour will have to look beyond the direct flights to and from Wuhan, the first epicentre of the novel coronavirus.ALSO READ: Dior showcases Italian folklore in audience-free catwalk showALSO READ: With miniature mannequins, Dior unveils post-lockdown collection\n",
      "Mandira Bedi's Instagram is our personal favourite because her account is filled with messages of hope, faith and joy. Something that the world is in dire need of amid the widespread chaos. In a new post on Wednesday, Mandira shared a message for her fans and followers. It's simple. Just love yourself and choose to be happy.\"Do something today that makes you happy,\" Mandira said in the caption of her post.So, what did Mandira do today? Nothing much. Dressed in a tee and denims, she posed for a picture at home, all smiles. With some coffee to go with it, of course.See Mandira's post:View this post on InstagramDo something today that makes you happy #loveyourself #ichoosetobehappy . . @jitusavlani #qse4A post shared by  Mandira Bedi (@mandirabedi) on Aug 4, 2020 at 10:58pm PDT\n",
      "This particular picture is part of a photoshoot that Mandira is doing at her residence in Mumbai. She often shares beautiful pictures of herself with motivational captions.You must see these!View this post on InstagramFeeling ready. To take on the world. #eatright #trainhard #bringitbaby . . . #QSE4 @jitusavlaniA post shared by  Mandira Bedi (@mandirabedi) on Jul 30, 2020 at 5:30am PDT\n",
      "View this post on Instagram#blackcoffee #easysunday #mornings : nothing.. and I mean nothing can beat that ! #myhappyplace . . #lockdownshoot #qse4 with @jitusavlaniA post shared by  Mandira Bedi (@mandirabedi) on Jul 25, 2020 at 11:18pm PDT\n",
      "View this post on Instagram#Waiting for the new world. Not wistfully.. but with #hope .. so much hope !! . . . #QSE3 shoot with @jitusavlani #lockdownshootA post shared by  Mandira Bedi (@mandirabedi) on Jul 24, 2020 at 7:17am PDT\n",
      "View this post on InstagramThere’s always light at the end of the tunnel.. head #onwardsandupwards to look for it.. . . . Photographed by @jitusavlaniA post shared by  Mandira Bedi (@mandirabedi) on Jul 18, 2020 at 5:47am PDT\n",
      "No wonder Mandira has over one million fans and followers on Instagram. Why not? Her Instagram fam adores her.Mandira Bedi is married to director Raj Kaushal. Vir, their son, is their first child together who was born in 2011.Mandira Bedi is best known for her roles in the films Dilwale Dulhania Le Jayenge, Dus Kahaniyaan, Ittefaq and Saaho.ALSO READ: Mandira Bedi is 9 days short of completing 365-day-exercise challenge. We are inspiredALSO READ: Black coffee by the window: Pictures from Mandira Bedi's happy place. See new Instagram post\n"
     ]
    },
    {
     "name": "stdout",
     "output_type": "stream",
     "text": [
      "Five thousand years of art and design history will be joined by some more modern items when London's Victoria and Albert (V & A) museum reopens on Thursday - hand sanitiser dispensers and protective screens.Mask-wearing visitors will be allowed to tour exhibits on two of the museum's floors, strolling through 250 years of European Renaissance art, a dazzling Islamic Middle East gallery, and five centuries of fashion from around the world.Tickets are free but visitors will be allowed in on a booking-only basis after months of coronavirus-enforced closure, marking another step in Britain's tentative economic and cultural reopening. London's Victoria and Albert Museum has been closed for 138 days, the longest period of closure in its history.\"We want people to enjoy themselves again after all these months of looking at screens - to go and see an artefact for yourself, to stand in front of an object, that's what's so important,\" said museum director Tristram Hunt.\"The V&A has been closed for 138 days, the longest period of closure in its history.\"The 160-year-old museum, named after Queen Victoria and her husband Prince Albert, has been modified to meet the demands of social distancing regulations designed to prevent the spread of a Covid-19 pandemic that has killed more than 46,000 people in Britain alone.Hand sanitiser dispensers have been dotted around the sprawling, mosaic-floored building. The gift shop and cafe have been equipped with protective screens.Further sections of the V&A's seven miles of galleries will reopen in phases later in the month.ALSO READ | Ancient Greek theatres return to life in pandemic with limited seating and social distancing rulesALSO READ | Movie magic as Paris turns the Seine into open-air cinema\n",
      "Arjun Rampal shared a selfie from his workout session on Tuesday and his Instagram fam is more than impressed. \"Sweat it out,\" is the caption of the post that Arjun shared on the photo-sharing app for his fans and followers.Dressed in basic athleisure, Arjun smiled for the cameras as he posed for the selfie in the gym at his home. From his post, it appears that Arjun was in the midst of an extensive fitness session.See Arjun's post here:View this post on InstagramSweat it out....A post shared by  Arjun (@rampal72) on Aug 4, 2020 at 6:53am PDT\n",
      "Arjun's workout selfie garnered several likes while his girlfriend Gabriella Demetriades also left a comment. Screenshot from Arjun Rampal's Instagram.The comments section, otherwise, was filled with fire and heart emoticons and loads of love from his fans. \"My favourite hero since forever.....now I know why old is gold,\" a user said.See the comments here:   Screenshots from Arjun Rampal's Instagram.Arjun Rampal is a fitness enthusiast and frequently shares fitness videos and posts on Instagram.View this post on InstagramGet stronger A post shared by  Arjun (@rampal72) on May 21, 2020 at 11:53pm PDT\n",
      "View this post on InstagramFinished today’s workout with some biceps. #stayhome #stayfit #staystrongA post shared by  Arjun (@rampal72) on May 12, 2020 at 5:02am PDT\n",
      "Arjun Rampal, star of films Dil Hai Tumhaara, Vaada, Om Shanti Om and Rock On, was last seen in 2018's Paltan.ALSO READ: Ankita Konwar's post for husband Milind Soman on Friendship Day is filled with love. See for yourselfALSO READ: Masaba Gupta's new workout selfie has a motivational message: Half the battle is just showing up\n",
      "Neil Young sued President Donald Trump’s reelection campaign on Tuesday for copyright infringement, saying he doesn’t want his music used as a theme song for a “divisive un-American campaign of ignorance and hate.”The Grammy-award winning Canadian-born musician filed the lawsuit through his lawyers in Manhattan federal court, seeking up to USD 150,000 (Rs 1,12,36,725) in statutory damages for each infringement.A message seeking comment was left with a campaign spokesperson.The legendary singer cited repeated use of two songs: Rockin’ in the Free World and Devil’s Sidewalk.The campaign has used the tunes numerous times at rallies and political events, including on June 20 in Tulsa, Oklahoma, the lawsuit said.Young said he was not suing to “disrespect the rights and opinions of American citizens, who are free to support the candidate of their choosing,” the lawsuit said.“However,” it added, “Plaintiff in good conscience cannot allow his music to be used as a ‘theme song’ for a divisive, un-American campaign of ignorance and hate.”Young first complained about the use of the 1990 single, Rockin’ in the Free World, in June 2015, when the song accompanied Trump’s announcement of his presidential campaign, according to the lawsuit.The campaign’s insistence in a statement then that it had obtained permission to use the music only proved that it was aware it needed permission, the lawsuit said.It said Young has voiced continuous and public objections to the use of the music.“The campaign has willfully ignored Plaintiff telling it not to play the songs and willfully proceeded to play the songs despite its lack of a license,” according to the lawsuit.New York attorney Ivan Saperstein, who filed the lawsuit on Young’s behalf along with attorney Robert S. Besser of Santa Monica, California, declined comment.On July 3, Young lodged a complaint on the Neil Young Archives website, where a copy of Tuesday’s lawsuit was also posted after Trump visited Mount Rushmore for an event.“I stand in solidarity with the Lakota Sioux & this is NOT ok with me,” he said in support of over 100 protesters who forced the closing of a road leading to the landmark.He complained after Like a Hurricane and other songs were played when Trump visited the site.“Imagine what it feels like to hear ‘Rockin’ in the Free World’ after this President speaks, like it is his theme song,” Young said on the website. “I did not write it for that.”Other artists have also complained after their songs were played at Trump’s events.In June, the Rolling Stones threatened to sue after the 1969 classic You Can’t Always Get What You Want was played at Trump’s Oklahoma rally, where critics said the indoor event threatened to spread the novel coronavirus.The family of the late rock musician Tom Petty said it had issued a cease-and-desist order after Trump used the song I Won’t Back Down in Tulsa.“Trump was in no way authorized to use this song to further a campaign that leaves too many Americans and common sense behind, the statement said.ALSO READ | The Rolling Stones threatens to sue Donald Trump for using their songs at rallies\n",
      "Ankita Konwar and Milind Soman never fail to delight their fans by sharing snippets from their life on social media. From workout routines to their romantic vacations, the couple shares almost everything.Recently, Ankita took to her gram to post a video of her enjoying the weather while dancing on terrace. Monsoons have finally arrived in Mumbai and Ankita was seen enjoying the rain.She posted the Instagram reel with the caption, \"Why must the raindrops bring so much romanticism with them? (sic).\"See the video here:View this post on InstagramWhy must the raindrops bring so much romanticism with them? . #reelkarofeelkaro #instareels #reelfun #reel #vibesA post shared by  Ankita Konwar (@ankita_earthy) on Aug 4, 2020 at 9:54am PDT\n",
      "In the clip, Ankita can be seen twirling around her terrace with a big smile on her face. As she enjoyed the weather, the song Ek Ladki Ko Dekha Toh from the film 1942: A Love Story can be heard playing in the background.Many of her followers compared her to a Disney Princess after seeing the video. See some of the comments:   For the dreamy video, Ankita opted to wear a long skirt which she paired with a sleeveless top. She left her locks open.Recently, Ankita took to the gram to talk about body positivity with her followers. The fitness enthusiast shared a picture of herself in a bikini and shared with her followers a witty lesson on how to get a bikini body.\"And we keep waiting, waiting on the world to change. Also since we're here, let's be clear on how to get a bikini body. Just wear your damn bikini (sic),\" she wrote in the caption.See the post:View this post on InstagramAnd we keep waiting, waiting on the world to change . Also since we’re here, let’s be clear on how to get a bikini body. Just wear your damn bikini . #life #bodypositivity #loveyourself #loveyourbody #positivevibes #tuesdaythoughts @milindrunningA post shared by  Ankita Konwar (@ankita_earthy) on Aug 4, 2020 at 1:55am PDT\n",
      "Ankita Konwar and Milind Soman got married in April, 2018.Watch the song Ek Ladki Ko Dekha Toh here:ALSO READ: Ankita Konwar's post for husband Milind Soman on Friendship Day is filled with love. See for yourself\n",
      "Queen Elizabeth's 99-year-old husband Prince Philip and other senior Royals will lead British commemorations for the 75th anniversary of VJ Day which marks victory over Japan and the end of World War Two, the government said on Wednesday.Philip, who served in the British navy during the war and was on board the destroyer HMS Whelp in Tokyo Bay when the Japanese surrender was signed, will feature in a photo montage of living veterans which will be shown on large screens in locations across the country for the August 15 tributes.His son, heir-to-the-throne Prince Charles, will lead a national two minute silence at the National Memorial Arboretum in central England while grandson Prince William will feature in a special BBC TV programme that will be broadcast on the day.There will also be flypasts by the Royal Air Force Aerobatic Team, the Red Arrows, over the four capitals of the United Kingdom.\"When the Second World War ended 75 years ago with the surrender of Japan, British soldiers, sailors and airmen were serving in the Far East, fighting hard to achieve victory - and were among the last to come home,\" Prime Minister Boris Johnson said.\"On this anniversary, I want to remember what we owe the veterans of the Far East campaign. They brought an end to the Second World War, they changed the course of history for the better, liberated South East Asia, and many paid the ultimate sacrifice.\"ALSO READ: Meghan Markle turns 39: Queen, Kate Middleton and William wish Duchess happy birthday. See postsALSO READ: Prince Harry took offence at William's advice on Meghan Markle, says book\n"
     ]
    },
    {
     "name": "stdout",
     "output_type": "stream",
     "text": [
      "When the pandemic began, none of us were sure how things would change in the coming months. We wore masks and locked ourselves in our homes. From offices to schools to grocery shopping, everything was supposed to be conducted online. But this change wasn't easy for everybody; especially for students and teachers. From the problem of arranging tools for conducting virtual classes to learning the basics of the online medium, teachers had to gear up for this new change and how.A huge conversation has been going on the internet regarding this new wave of change. While it is the only way to ensure that students and the school staff are safe from the novel coronavirus, it cannot be ignored that shifting school online comes with its own challenges. Some of these problems are the lack of availability of a good internet connection, gadgets to attend online classes, a basic understanding of the online medium, sitting on YouTube day and night to understand the basics of video making and so on. It cannot be ignored that shifting school online comes with its own challenges. Photo: PexelsIndiaToday.in spoke to five teachers about their experiences and their struggles in this new normal. The major problem that every teacher came forward with was a lack of good internet connection and less knowledge about the online medium.Payal Arya, a senior teacher at a government school, says that during the pandemic, she has been on her feet at all times. For her, the tricky part was to get acquainted with the technology. And though her son helped her, she says she still has a lot to learn.\"I used to get confused about petty things like how to correct an answer sheet which has come to me in the form of a picture, or how to mute a zoom call or even creating Excel sheets. As a teacher, I was never made familiar with these basic things. I have stumbled and gradually tried to learn,\" she said.Pooja Parashar, who teaches Class 4 in a school in Delhi NCR, says that she struggled with the language barrier. \"It is not necessary for every student and parent to understand English, but the medium for online class is English.\" Another issue she and her students faced was good internet, \"We cannot guarantee that a strong network connection will be available everywhere.\"She added, \"I had to adapt to this situation and make drastic changes to my teaching style. I wasn't familiar with editing and making a video. I even had to learn how to operate platforms like Zoom and Google Meet.\" Photo: ReutersFor Preeti Kinger, problems arose when her students said they did not have smartphones or laptops to attend online classrooms. \"Students don't have proper gadgets like laptops and functioning smartphones to attend online classes. If there are two kids in a family and they have the same schedules, how will they manage? Even several teachers don't have laptops, so they end up teaching on mobile phones, which is very challenging and time-consuming,\" said Kinger.Rajinder Kaur, who teaches Class 8, said, \"During this pandemic, I had to immediately purchase a laptop and a white board in order to conduct the online class, and I did so with my own money. So, a large chunk was invested in this. And many teachers from my school had to do this.\"Pooja also had to get these tools. \"I bought a white board, markers and even tripods. Basically, I had to create a school inside my house for my students.\"Archana Dahiya, who teaches primary classes, says she has struggled with the lack of human connection, which has created a disconnect between the teacher and the student during this time. She feels that this has hampered the growth of her students.Rajinder added that her concern is for her time and well-being. \"Earlier, when we used to go to school, we used to work only for 7-8 hours, but now it has become a 24x7 job, because students contact us anytime and every time. Now we have to be available throughout the day; our personal time is all lost now.\"But even after many efforts, the teachers feel that there is a lack of appreciation by the students, as many reported instances of harassment. Both Rajinder and Preeti have had to face the problem of students logging into online classes with fake ids multiple times. Photo: ReutersRajinder said, \"In the beginning of these virtual sessions, there were many occasions where students would harass teachers. They would join the sessions and play vulgar songs or porn clips during class. But after we started saying that we would report such behaviour to cyber cells, these kinds of activities stopped.\"As for Payal Arya, the situation was a bit different. She said, \"I teach in an all-girls school. Now, I have students in my class who have one phone at their home. Because we are all part of a group, sometimes a student's brother would get hold of other girls' numbers, they would try to call and message incessantly and harass them. I have also received such calls, but I have tried to report such matters.\"While these issues have reduced drastically after teachers gave students a warning, almost all of them agreed that the virtual barrier has caused a lack of flexibility for them. They confessed that they have lost the personal connection with the students. Preeti said, \"We cannot cater to individual problems anymore.\"While online classes are the need of the hour, they pose a challenge for many. These concerns do need to be catered to because, for the foreseeable months, online seems to be the future.ALSO READ: Future 2020: How do we shop, eat, and work out moving forward\n",
      "Theatre doyen and legendary teacher Ebrahim Alkazi died on Tuesday afternoon after suffering a heart attack, his son said. He was 94.Alkazi, who was the longest serving director of the National School of Drama, produced plays such as Girish Karnad's Tughlaq and Dharamvir Bharati's Andha Yug. He mentored generations of actors, including Naseeruddin Shah and Om Puri.\"Dad died this evening at 2:45 pm after a massive heart attack. He was admitted to the Escorts hospital the day before yesterday,\" his son Feisal Alkazi told PTI.Remembering the late actor, Nawazuddin Siddiqui wrote on Twitter, \"The true architect of the Modern Indian Theatre. The Doyen who possessed the extreme knowledge in all the aspects of ART. The magician who nurtured many greats of theatre. May your brightest spark from the heaven keeps us enlightening #EbrahimAlkazi #RIP (sic).\"The true architect of the Modern Indian Theatre. The Doyen who possessed the extreme knowledge in all the aspects of ART. The magician who nurtured many greats of theatre.May your brightest spark from the heaven keeps us enlightening #EbrahimAlkazi#RIP pic.twitter.com/PjYxRybpSr— Nawazuddin Siddiqui (@Nawazuddin_S) August 4, 2020\n",
      "ALSO READ| Rishi Kapoor and Irrfan together: D-Day scene goes viral after death of the actorsALSO READ| Simi Garewal bids farewell to dearest Rishi Kapoor: There are only tears, no last goodbyeALSO WATCH | Rishi Kapoor dies at 67 in Mumbaiwindow._ttCc = window._ttCc || [];_ttCc.push(function(){callJavaScriptFile(\"//platform.twitter.com/widgets.js\");});\n"
     ]
    }
   ],
   "source": [
    "news = []\n",
    "pics = []\n",
    "for i in range(len(headings)):\n",
    "    try:\n",
    "        new_web =  url.urlopen(\"https://www.indiatoday.in\"+temp_hrefs[i])\n",
    "        new_page = bs4.BeautifulSoup(new_web,'lxml')\n",
    "        newss = new_page.find('div',itemprop='articleBody').text\n",
    "        print(newss)\n",
    "        #news.append(newss)\n",
    "        pic_link = new_page.find('img', itemprop='contentUrl')\n",
    "        pics.append(pic_link['data-src'])\n",
    "    except:\n",
    "        print(\"Error\")"
   ]
  },
  {
   "cell_type": "code",
   "execution_count": 44,
   "metadata": {},
   "outputs": [
    {
     "data": {
      "text/plain": [
       "['https://akm-img-a-in.tosshub.com/indiatoday/images/story/202008/miheeka_bajaj_haldi_ceremony_s.jpeg?ETxYCVOCAonuITioMNWFBgYvJfXHS.98&size=770:433',\n",
       " 'https://akm-img-a-in.tosshub.com/indiatoday/images/story/202008/Screenshot_2020-08-06_at_11.46_0.png?xYC7uEUwgyoNBhDzaJYwjhuPB10u_D9o&size=770:433',\n",
       " 'https://akm-img-a-in.tosshub.com/indiatoday/images/story/202008/sadia.jpeg?3k3C5GBUT3.twzkvMeNsoaogI7TvJGEw&size=770:433',\n",
       " 'https://akm-img-a-in.tosshub.com/indiatoday/images/story/202008/117310506_2007847986017292_473.jpeg?LiEbW7lHFZTjsTOOqpuggjICjqORU_Le&size=770:433',\n",
       " 'https://akm-img-a-in.tosshub.com/indiatoday/images/story/202008/800_2_0.jpeg?7roEE4ciTrlEI59G34_oNvsTzmUct.5R&size=770:433',\n",
       " 'https://akm-img-a-in.tosshub.com/indiatoday/images/story/202008/Milind_Soman_and_Ankita_Konwar.jpeg?Z3etUFpQhj1CpAb7b2JmpwCSB_.EDUBF&size=770:433',\n",
       " 'https://akm-img-a-in.tosshub.com/indiatoday/images/story/202008/EeotTfzVoAAGJsM.jpeg?Dl_WqIzEd6cXcRBWKKHWl.APbu4TDpD2&size=770:433',\n",
       " 'https://akm-img-a-in.tosshub.com/indiatoday/images/story/202008/tarun_tahiliani_and_rahul_mish.jpeg?.9K2or_6kmdAJtG.YADZruUt5H907Ean&size=770:433',\n",
       " 'https://akm-img-a-in.tosshub.com/indiatoday/images/story/202008/mandiraas.png?kLhO3AuzF4hC9m6k7T4Dx6nS7R3cmyyK&size=770:433',\n",
       " 'https://akm-img-a-in.tosshub.com/indiatoday/images/story/202008/victoria_and_albert_museum_lon.jpeg?AoTY.GmAYguZ9oE._TeRKPr2Z6iZI2ID&size=770:433',\n",
       " 'https://akm-img-a-in.tosshub.com/indiatoday/images/story/202008/arjunn.png?tKBjrNWu89XbPiOO7Km03rgGmEo.m4Ky&size=770:433',\n",
       " 'https://akm-img-a-in.tosshub.com/indiatoday/images/story/202008/Screenshot_2020-08-05_at_11.41_0.png?Mv4LPuvjRUtLPEpR7NXMb0XEpSg_ximj&size=770:433',\n",
       " 'https://akm-img-a-in.tosshub.com/indiatoday/images/story/202008/ankita_konwar_0.jpeg?9zKqr3LjMFgsuJ5Iu.GKptsKgN324kE3&size=770:433',\n",
       " 'https://akm-img-a-in.tosshub.com/indiatoday/images/story/202008/pphilip.png?WnsKaFQS3WZlQJ5tGDGPOh1qF0OlNF7M&size=770:433',\n",
       " 'https://akm-img-a-in.tosshub.com/indiatoday/images/story/202008/zoom_classes_teachers.jpeg?yQ9ztBpW.zC3NUe9YgrqvJTAK687lure&size=770:433',\n",
       " 'https://akm-img-a-in.tosshub.com/indiatoday/images/story/202008/ebrahim.png?Dmp6Lwyvgt470QOjBr9N71tJgEj2Gqqv&size=770:433']"
      ]
     },
     "execution_count": 44,
     "metadata": {},
     "output_type": "execute_result"
    }
   ],
   "source": [
    "pics"
   ]
  },
  {
   "cell_type": "markdown",
   "metadata": {},
   "source": [
    "# Gaming news"
   ]
  },
  {
   "cell_type": "code",
   "execution_count": 63,
   "metadata": {},
   "outputs": [],
   "source": [
    "web = url.urlopen(\"https://www.gamesradar.com/news/\")\n",
    "page1 = bs4.BeautifulSoup(web,'lxml')\n",
    "b = page1.find('div',class_='listingResults news')\n",
    "temp_hrefs = []\n",
    "headings = []\n",
    "c = 0\n",
    "for a in b.find_all('a',href =True):\n",
    "    g =(a['href'])\n",
    "    if(c%2==0):\n",
    "        temp_hrefs.append(g)\n",
    "    c+=1\n",
    "temp_hrefs = temp_hrefs[:10]"
   ]
  },
  {
   "cell_type": "code",
   "execution_count": 64,
   "metadata": {},
   "outputs": [],
   "source": [
    "news = []\n",
    "pics = []\n",
    "headings = []\n",
    "for i in range(len(temp_hrefs)):\n",
    "    new_web =  url.urlopen(temp_hrefs[i])\n",
    "    new_page = bs4.BeautifulSoup(new_web,'lxml')\n",
    "    head = new_page.find('h1')\n",
    "    headings.append(head.text)\n",
    "    newss = new_page.find('div',class_='text-copy bodyCopy auto').text\n",
    "    news.append(newss)\n",
    "    pic_link = new_page.find('img', class_='block-image-ads hero-image')\n",
    "    pics.append(pic_link['src'])"
   ]
  },
  {
   "cell_type": "code",
   "execution_count": 67,
   "metadata": {},
   "outputs": [
    {
     "data": {
      "text/plain": [
       "['\\nTwo senior Ubisoft executives, Tommy François and Maxime Béland, have reportedly been placed on administrative leave as the company commences an investigation into misconduct allegations.\\xa0At the time of writing, neither François nor Béland were available for comment, but a spokesperson for Ubisoft, Stephanie Magnier, told Bloomberg: “These are under investigation, so we are not commenting further at this time\".\\xa0Both are part of Ubisoft\\'s editorial team, a group of approximately 100 designers who have \"overseen\" the development of all of its contemporary titles, advising on numerous aspects of development, from visuals to narrative design.The news comes just days after Ubisoft released a statement about apologising \"to everyone affected by [the allegations]\", promising it would \"be sharing additional measures that we are putting in place with our teams in the coming days\". Internal correspondence seen by Bloomberg reportedly told Ubisoft employees the company was “deeply concerned by these accusations”.\"We are truly sorry,\" the publisher/developer said. \"We are dedicated to creating an inclusive and safe environment for our teams, players, and communities. It is clear we have fallen short of this in the past. We must do better.\"\"We have started by launching investigations into the allegations with the support of specialized external consultants,\" the statement continued. \"Based on the outcomes, we are fully committed to taking any and all appropriate disciplinary action. As these investigations are ongoing, we can\\'t comment further. We are also auditing our existing policies, processes, and systems to understand where these have broken down, and to ensure we can better prevent, detect, and punish inappropriate behaviour.\"Here are the upcoming games of 2020 we really just can\\'t wait for.\\n\\n',\n",
       " '\\nStreamer Dr Disrespect has been permanently banned from Twitch.At the time of writing it\\'s unclear why Dr Disrespect has been removed from the streaming platform, and neither Twitch nor Dr Disrespect – whose real name is Guy Beahm – have responded to requests for clarification.\"As is our process, we take appropriate action when we have evidence that a streamer has acted in violation of our Community Guidelines or Terms of Service,\" a Twitch representative told Polygon. \"These apply to all streamers regardless of status or prominence in the community.\"Twitch would not, however, be drawn on what guidelines Beahm has been found to have breached, but sources reportedly close to the situation have quelled speculation that the action came as a result of DMCA takedowns.\\xa0Prior to his removal, Dr Disrespect had over four million followers on the streaming platform, as well as an exclusivity contract with Twitch. He has yet to formally comment on the decision on any of his social media channels.\\xa0Beahm is no stranger to controversy, of course. As Ford summarised recently, during E3 2019, Beahm had a cameraman following him around, live streaming his experience. He followed him inside the male bathrooms at the event while continuing to stream, which is against convention rules. He was subsequently suspended from Twitch and his E3 badge was revoked. , but two weeks later, his Twitch channel was reinstated.\\xa0In August last year, Musician Jimmy Wong called out Dr DisRespect for being outwardly racist on stream and performing caricatures of Chinese accents.\\xa0As Ford goes on to add, \"the man behind the mask rarely, if ever, shows his true face. He\\'s often talked about thanks to being the subject of plenty of controversies\".There\\'s a lot to get excited about in gaming this year. Here are the upcoming games of 2020 we really just can\\'t wait for.\\n\\n',\n",
       " '\\nBefore COVID-19 caused widespread industry shutdowns in the comic book Direct Market, Marvel Comics announced a new crossover/event storyline embroiling its teen heroes in a controversy not that unfamiliar to the publisher or long-time readers: a newly-minted government agency called CRADLE (Child Hero Reconnaissance and Disruption Law Enforcement) regulating teen superheroes following a tragedy that apparently killed or seriously injured several heroes and civilian students alike.The title of this crossover/event? \\'Outlawed.\\'(Image credit: Marvel Comics)The policy, called \"Kamala\\'s Law\" after Kamala Khan (who protected a high profile activist presumed to be the target of the attack), suffering grievous injuries in the process.The comic that kicked off the initiative – Outlawed #1 – came out March 18, just before the comic book Direct Market went on widespread hiatus; meaning that, while the setup for the story has been in place for several months, we\\'ve barely scratched the surface of the fallout since the intended follow-up comics had their release dates pushed back.(Image credit: Marvel Comics)With its focus on kid and teen heroes, the wider \\'Outlawed\\' event is intended to encompass the ongoing series Miles Morales: Spider-Man and The Magnificent Ms. Marvel as well as three new limited series - Champions, New Warriors, and Power Pack. However, not all of those aspects of the story have come home to roost, as those new series we mentioned are still waiting to be re-scheduled by Marvel. So before Marvel brings \\'Outlawed\\' in full-swing, here\\'s everything you need to know about what happened, and what\\'s in the works.In the previously-released Outlawed #1, Miles Morales and Kamala Khan attend a youth science conference where a young climate activist is scheduled to speak – while the rest of their teen superhero team the Champions surreptitiously keep guard outside the school where the conference is taking place.During the activist\\'s keynote speech, a giant dragon attacks (seemingly at the behest of Roxxon Energy Corporation), attempting to destroy the Champions and the school. The Champions intervene, but things go haywire when Viv Vision phases into the dragon just as Power Man hits it with a fully-charged Chi-strike, resulting in the dragon being defeated - and Viv Vision becoming an apparently infinite conduit for energy that is ravaging the surrounding area.(Image credit: Marvel Comics)Inside the collapsing, critically damaged school, Kamala protects the climate activist from a cave-in, saving her life and becoming critically injured in the process. In the aftermath, the Champions are investigated by a congressional committee who determine that they are the ones primarily responsible for the school\\'s destruction, and ratifying \\'Kamala\\'s Law\\' to restrict teen superhero activity.So far, only one \\'Outlawed\\' tie-in has been released: June 10\\'s Miles Morales: Spider-Man #17. Two other tie-in issues have been solicited – September 2\\'s Miles Morales: Spider-Man #18 and September 9\\'s Magnificent Ms. Marvel #14. Those three spin-offs we mentioned remain unsolicited – but presumably still in the works.(Image credit: Marvel Comics)As for what they\\'ll be, the first planned title is a relaunch of Champions by writer Eve L. Ewing, who wrote Outlawed #1, and artist Simone Di Meo which was originally scheduled for release on April 8. The new volume would have focused on the trio of Miles Morales, Kamala Khan, and Sam Alexander/Nova as the core of a new Champions team operating outside the law.Then there\\'s a relaunched New Warriors limited series by writer Daniel Kibblesmith and artist Luciano Vecchio, which will focus on former New Warriors Justice, Night Thrasher, Namorita, Firestar, Rage, Speedball, and Silhouette training a new team of official recruits with names and powers derived from socially relevant real-world concepts such as Screentime, Snowflake, Safespace, B-Negative, and Trailblazer.(Image credit: Marvel Comics)Finally, the third planned series will be a new Power Pack limited series by writer Ryan North and artist Nico Leon that will follow the Power family as they try to navigate a return to super-heroics in a world where the government regulates teen superheroes.As for when these books will come out? Marvel hasn\\'t offered an updated schedule for \\'Outlawed\\', with updated September solicitations arriving earlier this month. The publisher did not respond to Newsarama’s inquiry earlier this week about the return of these titles and the planned ‘Outlawed’ branding.But given the publisher has implemented a staggered schedule for reprising its releases, so it\\'s likely the new titles – Champions, Power Pack, and New Warriors – will join the already re-solicited Miles Morales: Spider-Man and Magnificent Ms. Marvel in the foreseeable future.\\n\\n',\n",
       " '\\nDC is putting all their marketing marbles in the upcoming Batman event \\'Joker War\\' and it finally kicks off next month on July 21 with Batman #95, written by James Tynion IV and illustrated by Jorge Jimenez and Tomeu Morey.Here\\'s how the publisher is describing the \"final showdown\" between Batman and the Joker.\"It was always going to come to this. The Clown Prince of Crime and the Dark Knight Detective go head-to-head for the last time. The Joker has never wanted to win before, he\\'s never wanted his battle with Batman to end, but now his motivation has shifted. He has decided that one way or another, this will be the final chapter to their story.\"(Image credit: DC)As you can see by preview pages DC has released, they\\'re slipping in a reference to Mark of Zorro, established in Frank Miller\\'s Batman: The Dark Knight Returns #1 as the movie a young Bruce Wayne attended with his parents the night they were murdered in Crime Alley, after decades of retellings of his origin simply referencing an unidentified movie.Miller later corroborated the identity of the film in Batman: Year One and in both instances, it was the 1940 version starring Tyrone Power although subsequently writer Alan Grant referenced the 1920 silent version in Batman #459.The identity of the movie has become official continuity since even if DC hasn\\'t officially pinned down the version.\\'Joker War\\' itself will conclude with Batman #100 in October, which you can bet DC has significant plans to celebrate.\\xa0\"It’s going to be a new status quo,\" Tynion told Newsarama about Batman post-\\'Joker War.\\' \"Let’s put it that way. We’re going to shake things up in Gotham City. Bruce Wayne is going to be upfront and center, but the Gotham City he operates in has changed a lot, and the way he operates as Batman is going to have to change a lot.\"Check out the full preview of Batman #95 below.Image 1 of 8(Image credit: DC)Image 2 of 8(Image credit: DC)Image 3 of 8(Image credit: DC)Image 4 of 8(Image credit: DC)Image 5 of 8(Image credit: DC)Image 6 of 8(Image credit: DC)Image 7 of 8(Image credit: DC)Image 8 of 8(Image credit: DC)\\n\\n',\n",
       " '\\nValiant Entertainment\\'s comic books took a hiatus due to the effects of the COVID-19 pandemic on the industry, but its flagship title Bloodshot is returning September 16 - and arguably Valiant\\'s other flagship hero, X-O Manowar, will be guest-starring in the issue.\"Kaiju! Taliban Glorymen! A visigoth in a fancy space suit! All of these things (and MUCH, MUCH, MORE) await you in the new arc of Bloodshot!\" Valiant senior editor Lysa Hawkins tells Newsarama - the \"visigoth in a fancy space suit\" being X-O Manowar.\"[Bloodshot #8 is the] perfect place for any fan to jump on board,\" Hawkins continues. \"We\\'ll see old friends, new frenemies and we\\'ll even give you some conclusions by the end of the arc!\"Here\\'s an unlettered two-page spread from Bloodshot #8, along with three uncolored, unlettered pages from #9:Image 1 of 4(Image credit: Valiant Entertainment)Image 2 of 4(Image credit: Valiant Entertainment)Image 3 of 4(Image credit: Valiant Entertainment)Image 4 of 4(Image credit: Valiant Entertainment)September 16\\'s Bloodshot #8 is the second part of \"The Long Shot\" arc, with series writer Tim Seeley and guest artists Pedro Andreo and Andrew Dalhouseo. Artist Marc Laming returns for Bloodshot #9 on October 14, as well as November 18\\'s #10.\"The plan is to supply readers with something they say they want — a big, apolitical, stakes-filled action comic about a hero who is desperately trying to be better despite knowing what a monster he’s been in the past,\" Seeley told Newsarama previously about this arc.\\xa0\"And I want to add in more of the \\'monster\\' aspect to this, not just in the deeds of our hero, but playing around with the idea that if Bloodshot is a high-tech Frankenstein’s monster, then he should have enemies that are high-tech vampires, ghosts, werewolves... all my favorite stuff.\"The main cover is drawn by Tyler Kirkham, with variants by Diego Bernard and Cryssy Cheung. Here they are:Image 1 of 3(Image credit: Valiant Entertainment)Image 2 of 3(Image credit: Valiant Entertainment)Image 3 of 3(Image credit: Valiant Entertainment)\"Non-stop, pulse-racing adventures is what\\'s on the menu for Bloodshot, that and plenty of protein. Gotta keep the goldies (nannites) happy!\" Hawkins adds.\\xa0The first two arcs of this Bloodshot volume were released earlier this year as Bloodshot: Book One and Bloodshot: Book Two. The recent Vin Diesel-led Bloodshot film is available now digitally.\\n\\n',\n",
       " \"\\nMargot Robbie will star in a new Pirates of the Caribbean with Birds of Prey writer Christina Hodson joining her to pen the script.According to The Hollywood Reporter, Robbie and Hodson's Pirates film is a separate entity from the franchise reboot, which is currently in the works from Pirates writer Tim Elliot and Chernobyl's Craig Mazin. It will not be a spin-off of the franchise that starred Johnny Depp as Jack Sparrow, but rather a female-fronted original story with brand-new characters under the Pirates franchise umbrella (a Pirate Cinematic Universe, if I may). Jerry Bruckheimer, longtime producer of the Pirates films, is attached to both Elliot's and Robbie's projects.There's nary a whisper on plot or casting aside from Robbie, who will likely take the lead role. Here's hoping she steps into seawater-soaked boots and plays a crass, conniving, absolute drunk of a pirate - less Elizabeth Swann in the first movie and more Barbarossa, please.\\xa0Robbie's Harley Quinn in this year's Birds of Prey is a fantastic blueprint for a swashbuckling lady pirate: a character singularly obsessed with what she considers treasure (in this case, a bodega bacon, egg, and cheese), only willing to help out for as long as it benefits her. Whatever role Robbie plays and how she chooses to play it, this film just got bumped to the top of my list of most anticipated movies.\\xa0Robbie and Hodson didn't just collaborate on Birds of Prey; they also started the Lucky Exports Pitch Program in 2019, which aims to get more female-identifying writers hired to write action movies. Hear, hear.\\xa0The most exciting movies of 2020 and beyond (add it to the list).\\xa0\\n\\n\",\n",
       " '\\nUpdate: The Xbox Lockhart documentation leak has drawn out some new details on what kind of hardware it may include.The leak of documents created for game developers included reference to a Lockhart profiling mode. According to anonymous sources cited by The Verge, this option is included in Xbox Series X developer kits to let creators test their games against the lower-performance specs being targeted for Lockhart.Those specs reportedly include \"7.5GB of usable RAM, a slightly underclocked CPU speed, and around 4 teraflops of GPU performance\", as compared to Xbox Series X\\'s targets for 13.5GB of usable ram and 12 teraflops of GPU performance. Recent rumors indicate that the Xbox Lockhart price could be half that of Xbox Series X, so those reduced hardware capabilities could be accompanied by a significantly smaller hit to your bank account.Those same rumors also point to Xbox Lockhart finally getting its big debut at the Xbox 20/20 event in July, so hopefully we\\'ll have some more solid info about the much-leaked console soon.Original story followsXbox Lockhart has re-surfaced in documentation that solidifies its existence as a complementary console to Xbox Series X.A security researcher who goes by TitleOS on Twitter posted a couple of snippets from the June version of Microsoft\\'s GameCore Development Kit notes, which are available to developers but not typically to the public. The notes mention \"LockhartProfiling modes\" alongside \"AnacondaProfiling\", all as part of the development kit for Project Scarlett.More proof of Lockhart, this time from the XDK/GDK release notes for June 2020. pic.twitter.com/hulDoC9owvJune 24, 2020It\\'s all but confirmed at this point that Anaconda is the internal Microsoft codename for Xbox Series X, while Project Scarlett refers to the company\\'s overarching plans for its next console generation. Lockhart is allegedly a lower-priced alternative to Anaconda/Xbox Series X, with less powerful hardware and no built-in disc drive.TitleOS previously shared some code from the backend of Windows that pointed to Lockhart. Today, they retweeted another dataminer who spotted references to Lockhart in the Xbox One operating system itself.Further mentions for Lockhart are scattered throughout the Xbox One OS - including the development tools and more. Raises interest given @XB1_HexDecimal\\'s information. pic.twitter.com/sLFmp3XTi5June 25, 2020Though Lockhart has been showing up in leaks for quite some time now, Microsoft has still yet to officially confirm it with less than half a year between now and the holiday 2020 launch window for Xbox Series X. Microsoft could always launch the console later down the line, giving Xbox Series X more time to stand on its own.On the other hand, Sony recently revealed that it will launch the PS5 Digital Edition at the same time as its disc-drive-bearing version this year. We\\'ll have to wait and see if that influences Microsoft\\'s overarching plans.See what\\'s on the way in Microsoft\\'s next-generation with our guide to upcoming Xbox Series X games.\\xa0\\n\\n',\n",
       " '\\nThe Boys are back! The Supes are soaring again thanks to a new The Boys season 2-centric stream, which has revealed a September release date for the Amazon Prime hit superhero series as well as a big shake-up to its release schedule. Spoiler: It\\'s not coming all at once.Yep, The Boys season 2 is officially flying our way on Amazon’s streaming service on September 4, though only the first three episodes. The rest will air weekly every Friday.The announcement (which was revealed on \"The Boys F**kin\\' Reunited\" stream involving the entire cast) also included the first three minutes of The Boys season 2. That teaser, which begins at 47:30 in the video above, highlighted a Vought board meeting and was soundtracked to The Rolling Stones\\' \"Sympathy for the Devil.\"Some fans might have been expecting a slightly earlier release date for The Boys season 2, especially if you’ve been following what showrunner Eric Kripke had to say last year.Speaking to Collider Kripke hoped for season 2 to “drop one full year after the first season, so about the same time next year [in July].”Now, it’s going to be September, not July – but that’s perhaps unsurprising given how even post-production is being affected by on the ongoing COVID-19 pandemic.Recently, The Boys season 2 has even had all eight of its upcoming episode titles revealed by the Writers Guild of America West website.\"Butcher, Baker, Candlestick Maker\"\"Nothing Like It In The World\"\"Over The Hill With The Swords Of A Thousand Men\"\"Proper Preparation and Planning\"\"The Big Ride\"\"The Bloody Doors Off\"\"We Gotta Go Now\"\"What I Know\"First three minutes? Check. Episode titles? Check. Release date? Super check. So, the pieces are coming together. Get your middle fingers ready: It\\'s not long now until The Boys are back in town.\\xa0Best movies on Amazon Prime\\xa0Best shows on Amazon PrimeNew on Amazon Prime\\xa0\\n\\n',\n",
       " \"\\nThe Destiny 2 Xur June 26 location is down in the EDZ. Land in the Winding Cove and head north until you reach a crashed spaceship perched on a ledge. Jump up to the ledge using the rocks on the right to reach Xur. The snake-faced merchant will stick around until reset time on Tuesday, June 30.\\xa0Here's everything Xur is selling this weekend. Remember that even if you already own all of these Exotics, you can still buy armor again for a better stat roll. That's in addition to Xur's random Exotic engram, which is always worth buying.Exotic weapon - The Colony: fires tiny robot insects that seek out enemies and explode when they get close. The Colony is one of the strangest and most amusing Exotics in Destiny 2, but it's not terribly powerful. It's great fun in PvP since you can basically just shoot all your grenades in the direction of the enemies and watch the kills roll in, but at the same time enemies can avoid your little robots just by jumping. You can't beat the comic relief of a random Colony kill, though.Hunter Exotic - Young Ahamkara's Spine: tripmine grenades last longer and have a larger explosion. Dealing damage with abilities grants tripmine grenade energy. Ahamkara's Spine is basically the tripmine version of Shinobu's Vow, and it comes with the same recommendation: if you really like this grenade type, you'll probably enjoy using this Exotic.Titan Exotic - Synthoceps: increases melee range, and increases melee and super damage while you're surrounded. The Synthoceps are a staple neutral Titan Exotic, especially in PvP, where it can work wonders with abilities like Knockout. Even in PvE, with the right Artifact and Charged with Light mods, Synthoceps can put in some serious work.\\xa0Warlock Exotic - Phoenix Protocol: getting kills and assists inside your Well of Radiance grants super energy. If you're running middle tree solar Warlock in PvE, particularly in raids or dungeons, you probably want to use Phoenix Protocol. It makes Well of Radiance much more powerful and consistent, adding yet more utility to an already powerful support class.\\xa0Here's everything we know about the future of Destiny 2, from a trilogy of expansions to next-gen support. \\xa0\\n\\n\",\n",
       " '\\nMass Effect fans know Mordin Solus is the real scientist-soldier-singer triple threat, and now you can help him enjoy his well-earned retirement in plush form.Fandom merch specialists Sanshee are currently taking pre-orders for their Mass Effect - Mordin Solus Collector\\'s Plush, an adorable recreation of the stalwart Salarian, but only for two more days. On top of being a huggable, super-deformed version of the Mass Effect squadmate who (potentially) cured the Krogan genophage, the plush also sings four different songs when you press his left hand - with batteries included.While Mordin\\'s left hand is used to show off his singing talents, his right hand has a little built-in magnet that can be used to attach an included seashell plush. You know, so he can run tests on it. Sorry, I\\'m not crying as I remember my Mordin\\'s valiant sacrifice, I just have something in my special eyes.According to Sanshee, the Mordin plushes should start shipping out in early August. If you want to give him a little friend, you could also pre-order this adorable little Hanar Hanger Plush that\\'s set to ship a little later. Or you could pretend he\\'s Blasto and recreate your own version of the first hanar Spectre\\'s explosive exploits.Previous Mass Effect plushes from Sanshee include Garrus, who is currently sold out, and Grunt, who is currently on sale for $19.99. Don\\'t feel bad, Grunt - you\\'re much more than a Wrex stand-in in our hearts.BioWare says it\\'s working on a new game from one of its \"most prestigious franchises\" and we really hope it\\'s Mass Effect.\\n\\n']"
      ]
     },
     "execution_count": 67,
     "metadata": {},
     "output_type": "execute_result"
    }
   ],
   "source": [
    "news"
   ]
  },
  {
   "cell_type": "markdown",
   "metadata": {},
   "source": [
    "# Science"
   ]
  },
  {
   "cell_type": "code",
   "execution_count": null,
   "metadata": {},
   "outputs": [],
   "source": [
    "web_url = \"https://www.indiatoday.in/world\"\n",
    "web = url.urlopen(web_url)\n",
    "page1 = bs4.BeautifulSoup(web,'lxml')\n",
    "#print(page1)"
   ]
  }
 ],
 "metadata": {
  "kernelspec": {
   "display_name": "Python 3",
   "language": "python",
   "name": "python3"
  },
  "language_info": {
   "codemirror_mode": {
    "name": "ipython",
    "version": 3
   },
   "file_extension": ".py",
   "mimetype": "text/x-python",
   "name": "python",
   "nbconvert_exporter": "python",
   "pygments_lexer": "ipython3",
   "version": "3.7.6"
  }
 },
 "nbformat": 4,
 "nbformat_minor": 4
}
